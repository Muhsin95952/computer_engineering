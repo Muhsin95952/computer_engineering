{
 "cells": [
  {
   "cell_type": "markdown",
   "metadata": {},
   "source": [
    "# Lab 07 T-test\n"
   ]
  },
  {
   "cell_type": "code",
   "execution_count": 1,
   "metadata": {},
   "outputs": [],
   "source": [
    "from scipy.stats import t\n",
    "import numpy as np"
   ]
  },
  {
   "cell_type": "markdown",
   "metadata": {},
   "source": [
    "### Example 01\n",
    "Paired Sample t Test\n",
    "\n",
    " Suppose we conduct a two-sided hypothesis test \n",
    "at alpha level 0.05 to find out if mean weight loss differs \n",
    "between two diets. Suppose our test statistic t is 1.34 \n",
    "and our degrees of freedom is 22. We would like to know \n",
    "if these results are statistically significant."
   ]
  },
  {
   "cell_type": "code",
   "execution_count": 2,
   "metadata": {},
   "outputs": [
    {
     "name": "stdout",
     "output_type": "stream",
     "text": [
      "T-test\n",
      "T-Score: 1.34,\n",
      "T-Critical: 1.717144374380242\n",
      "\n",
      "Null hupothesis is  ACCEPTED\n"
     ]
    }
   ],
   "source": [
    "t_score = 1.34\n",
    "alpha = 0.05\n",
    "levelOfConfidence = 1 - alpha\n",
    "df = 22\n",
    "\n",
    "t_critical = t.ppf(levelOfConfidence, df)\n",
    "print(f\"T-test\\nT-Score: {t_score},\\nT-Critical: {t_critical}\\n\")\n",
    "\n",
    "if t_score > t_critical:\n",
    "    print(\"Null hupothesis is  REJECTED\")\n",
    "else:\n",
    "    print(\"Null hupothesis is  ACCEPTED\")\n",
    "\n"
   ]
  },
  {
   "cell_type": "markdown",
   "metadata": {},
   "source": [
    "### Example 02\n",
    "Paired Sample t Test\n",
    "\n",
    " Suppose we want to know whether\n",
    "or not a certain training program is able to\n",
    "increase the max vertical jump (in inches) of\n",
    "college basketball players. To test this, we\n",
    "may recruit a simple random sample of 20\n",
    "college basketball players and measure each\n",
    "of their max vertical jumps. Then, we may\n",
    "have each player use the training program\n",
    "for one month and then measure their max\n",
    "vertical jump again at the end of the month."
   ]
  },
  {
   "cell_type": "code",
   "execution_count": 3,
   "metadata": {},
   "outputs": [
    {
     "name": "stdout",
     "output_type": "stream",
     "text": [
      "T-test\n",
      "T-Score: -3.3099839773324087,\n",
      "T-Critical: 2.093024054408263\n",
      "\n",
      "Null hupothesis is REJECTED\n"
     ]
    }
   ],
   "source": [
    "sample1 = np.array([22, 20, 19, 24, 25, 25, 28, 22, 30, 27, 24, 18, 16, 19,19, 28, 24, 25, 25, 23])\n",
    "sample2 = np.array([24, 22,19, 22, 28, 26, 28, 24, 30, 29, 25, 20, 17, 18, 18, 28, 26, 27, 27, 24])\n",
    "n = len(sample1)\n",
    "df = n - 1\n",
    "alpha = 0.05\n",
    "levelOfConfidence = 1 - alpha / 2 # for two tail test\n",
    "diff = sample1 - sample2\n",
    "diff_mean = np.mean(diff)\n",
    "std_dev = np.std(diff)\n",
    "\n",
    "t_score = diff_mean / (std_dev/(n**0.5))\n",
    "t_critical = t.ppf(levelOfConfidence, df)\n",
    "print(f\"T-test\\nT-Score: {t_score},\\nT-Critical: {t_critical}\\n\")\n",
    "\n",
    "if t_score > t_critical or t_score < -t_critical:\n",
    "    print(\"Null hupothesis is REJECTED\")\n",
    "else:\n",
    "     print(\"Null hupothesis is ACCEPTED\")\n"
   ]
  },
  {
   "cell_type": "markdown",
   "metadata": {},
   "source": [
    "### Example 03\n",
    "Example of One-tailed (Right) Paired \n",
    "t-test\n",
    "\n",
    "\n",
    "Artificial Intelligence (AI) training institute\n",
    "evaluating the effectiveness of training by comparing AI\n",
    "knowledge of the students before and after the execution of\n",
    "live projects. At a 95% confidence level, does this information\n",
    "provide sufficient evidence to indicate that the live projects\n",
    "will improve the students’ AI knowledge?\n"
   ]
  },
  {
   "cell_type": "code",
   "execution_count": 4,
   "metadata": {},
   "outputs": [
    {
     "name": "stdout",
     "output_type": "stream",
     "text": [
      "T-test\n",
      "T-Score: -2.3749385185432432,\n",
      "T-Critical: 1.894578605061305\n",
      "\n",
      "Null hupothesis is REJECTED\n"
     ]
    }
   ],
   "source": [
    "sample1 = np.array([55, 56, 72, 59, 46, 50, 63, 44])\n",
    "sample2 = np.array([65, 78, 60, 58, 59, 57, 74, 61])\n",
    "n = len(sample1)\n",
    "df = n - 1\n",
    "alpha = 0.05\n",
    "levelOfConfidence = 1 - alpha\n",
    "diff = sample1 - sample2\n",
    "diff_mean = np.mean(diff)\n",
    "std_dev = np.std(diff)\n",
    "\n",
    "t_score = diff_mean / (std_dev/(n**0.5))\n",
    "t_critical = t.ppf(levelOfConfidence, df)\n",
    "print(f\"T-test\\nT-Score: {t_score},\\nT-Critical: {t_critical}\\n\")\n",
    "\n",
    "if abs(t_score) > t_critical:\n",
    "    print(\"Null hupothesis is REJECTED\")\n",
    "else:\n",
    "     print(\"Null hupothesis is ACCEPTED\")"
   ]
  },
  {
   "cell_type": "markdown",
   "metadata": {},
   "source": [
    "### Example 04\n",
    "Example of Two-tailed Paired T-test\n",
    "\n",
    "Two operators are checking the same\n",
    "dimension on the same sample of 10 parts. Below\n",
    "are the results. Is there a significant operator\n",
    "measurement error? Test at the 5% significance\n",
    "level"
   ]
  },
  {
   "cell_type": "code",
   "execution_count": 5,
   "metadata": {},
   "outputs": [
    {
     "name": "stdout",
     "output_type": "stream",
     "text": [
      "T-test\n",
      "T-Score: -0.8482512026457815,\n",
      "T-Critical: 2.2621571628540993\n",
      "\n",
      "Null hupothesis is ACCEPTED\n"
     ]
    }
   ],
   "source": [
    "sample1 = np.array([63, 56, 62, 59, 62, 50, 63, 61, 56, 63])\n",
    "sample2 = np.array([65, 57, 60, 58, 59, 57, 63, 61, 58, 64])\n",
    "n = len(sample1)\n",
    "df = n - 1\n",
    "alpha = 0.05\n",
    "levelOfConfidence = 1 - alpha/2\n",
    "diff = sample1 - sample2\n",
    "diff_mean = np.mean(diff)\n",
    "std_dev = np.std(diff)\n",
    "\n",
    "t_score = diff_mean / (std_dev/(n**0.5))\n",
    "t_critical = t.ppf(levelOfConfidence, df)\n",
    "print(f\"T-test\\nT-Score: {t_score},\\nT-Critical: {t_critical}\\n\")\n",
    "\n",
    "if abs(t_score) > t_critical:\n",
    "    print(\"Null hupothesis is REJECTED\")\n",
    "else:\n",
    "     print(\"Null hupothesis is ACCEPTED\")"
   ]
  },
  {
   "cell_type": "markdown",
   "metadata": {},
   "source": [
    "### Example 05\n",
    "Example of One-tailed (Left) Paired t-test\n",
    "\n",
    "\n",
    "Example: A dietician is evaluating the individual weights \n",
    "before and after following the diet plan. At a 95% \n",
    "confidence level, is there any significant evidence of the \n",
    "reduction of weight of the individuals"
   ]
  },
  {
   "cell_type": "code",
   "execution_count": 6,
   "metadata": {},
   "outputs": [
    {
     "name": "stdout",
     "output_type": "stream",
     "text": [
      "T-test\n",
      "T-Score: 5.781471643504002,\n",
      "T-Critical: 1.8331129326536333\n",
      "\n",
      "Null hupothesis is REJECTED\n"
     ]
    }
   ],
   "source": [
    "sample1 = np.array([62.7, 61.3, 59.2, 58.8, 75.2, 71.1, 58.6, 67.2, 72.7, 82.1])\n",
    "sample2 = np.array([62.2, 59.9, 58.8, 58.5, 74.6, 70.7, 58.1, 66.9, 72.1, 81.6])\n",
    "n = len(sample1)\n",
    "df = n - 1\n",
    "alpha = 0.05\n",
    "levelOfConfidence = 1 - alpha\n",
    "diff = sample1 - sample2\n",
    "diff_mean = np.mean(diff)\n",
    "std_dev = np.std(diff)\n",
    "\n",
    "t_score = diff_mean / (std_dev/(n**0.5))\n",
    "t_critical = t.ppf(levelOfConfidence, df)\n",
    "print(f\"T-test\\nT-Score: {t_score},\\nT-Critical: {t_critical}\\n\")\n",
    "\n",
    "if t_score > t_critical:\n",
    "    print(\"Null hupothesis is REJECTED\")\n",
    "else:\n",
    "     print(\"Null hupothesis is ACCEPTED\")"
   ]
  },
  {
   "cell_type": "markdown",
   "metadata": {},
   "source": [
    "### Example 06\n",
    "T Test\n",
    "\n",
    "An instructor wants to use\n",
    "two exams in her classes next year.\n",
    "This year, she gives both exams to the\n",
    "students. She wants to know if the\n",
    "exams are equally difficult and wants to\n",
    "check this by looking at the differences\n",
    "between scores. The test is two-sided\n",
    "and set α = 0.05. If the mean\n",
    "difference between scores for students\n",
    "is “close enough” to zero, she will make\n",
    "a practical conclusion that the exams\n",
    "are equally difficult. Here is the data:"
   ]
  },
  {
   "cell_type": "code",
   "execution_count": 7,
   "metadata": {},
   "outputs": [
    {
     "name": "stdout",
     "output_type": "stream",
     "text": [
      "T-test\n",
      "T-Score: -1.1914261061786913,\n",
      "T-Critical: 2.131449545559323\n",
      "\n",
      "Null hupothesis is ACCEPTED\n"
     ]
    }
   ],
   "source": [
    "sample1 = np.array([63, 65, 5, 100, 88, 83, 77, 92, 90, 84, 68, 74, 87, 64, 71, 88])\n",
    "sample2 = np.array([69, 65, 62, 91, 78, 87, 79, 88, 85, 92, 69, 81, 84, 75, 84, 82])\n",
    "n = len(sample1)\n",
    "df = n - 1\n",
    "alpha = 0.05\n",
    "levelOfConfidence = 1 - alpha/2     # Two tailed t-test\n",
    "diff = sample1 - sample2\n",
    "diff_mean = np.mean(diff)\n",
    "std_dev = np.std(diff)\n",
    "\n",
    "t_score = diff_mean / (std_dev/(n**0.5))\n",
    "t_critical = t.ppf(levelOfConfidence, df)\n",
    "print(f\"T-test\\nT-Score: {t_score},\\nT-Critical: {t_critical}\\n\")\n",
    "\n",
    "if abs(t_score) > t_critical:\n",
    "    print(\"Null hupothesis is REJECTED\")\n",
    "else:\n",
    "     print(\"Null hupothesis is ACCEPTED\")"
   ]
  },
  {
   "cell_type": "markdown",
   "metadata": {},
   "source": [
    "### Example 07\n",
    "\n",
    "Right tail T-test\n",
    "\n",
    "A small company wants to test the claim that their manufactured bulbs last more than 40 hours. Using a simple random sample of 15 bulbs yielded a mean of 44.9 hours, with a standard deviation of 8.9 hours. Test this claim using a significance level of 0.05"
   ]
  },
  {
   "cell_type": "code",
   "execution_count": null,
   "metadata": {},
   "outputs": [
    {
     "name": "stdout",
     "output_type": "stream",
     "text": [
      "T-test\n",
      "T-Score: 2.132316673754645,\n",
      "T-Critical: 1.7613101357748562\n",
      "\n",
      "Null hupothesis is REJECTED\n"
     ]
    }
   ],
   "source": [
    "population_mean = 40\n",
    "sample_mean = 44.9\n",
    "n = 15\n",
    "alpha = 0.05\n",
    "std_dev = 8.9\n",
    "df = n - 1\n",
    "levelOfConfidence = 1 - alpha\n",
    "\n",
    "t_score = (sample_mean - population_mean) / (std_dev/(n**0.5))\n",
    "t_critical = t.ppf(levelOfConfidence, df)\n",
    "print(f\"T-test\\nT-Score: {t_score},\\nT-Critical: {t_critical}\\n\")\n",
    "\n",
    "if abs(t_score) > t_critical:\n",
    "    print(\"Null hupothesis is REJECTED\")\n",
    "else:\n",
    "     print(\"Null hupothesis is ACCEPTED\")\n"
   ]
  },
  {
   "cell_type": "markdown",
   "metadata": {},
   "source": [
    "### Example 08\n",
    "One tail(Right) t-test\n",
    "One Sample T Test\n",
    "\n",
    "Ali collect tomato's that is produced from 12\n",
    "different farmhouses. Ali know that the standard tomato\n",
    "yield for the given variety is µ=20. x = [21.5, 24.5, 18.5, 17.2,\n",
    "14.5, 23.2, 22.1, 20.5, 19.4, 18.1, 24.1, 18.5] Test if the\n",
    "tomato produced from these farmhouses is significantly\n",
    "better than the standard yield for 0.05 significance level.\n"
   ]
  },
  {
   "cell_type": "code",
   "execution_count": 18,
   "metadata": {},
   "outputs": [
    {
     "name": "stdout",
     "output_type": "stream",
     "text": [
      "T-test\n",
      "T-Score: 0.20957864653499295,\n",
      "T-Critical: 2.200985160082949\n",
      "\n",
      "Sample mean: 20.175 \n",
      "Standard Deviation: 2.892555098870201\n",
      " \n",
      "Null hupothesis is ACCEPTED\n"
     ]
    }
   ],
   "source": [
    "x = np.array([21.5, 24.5, 18.5, 17.2, 14.5, 23.2, 22.1, 20.5, 19.4, 18.1, 24.1, 18.5])\n",
    "n = len(x)\n",
    "df = n - 1\n",
    "alpha = 0.05\n",
    "levelOfConfidence = 1 - alpha/2     # Two tailed t-test\n",
    "x_mean = np.mean(x)\n",
    "p_mean = 20\n",
    "std_dev = np.std(x)\n",
    "\n",
    "t_score = (x_mean - p_mean) / (std_dev/(n**0.5))\n",
    "t_critical = t.ppf(levelOfConfidence, df)\n",
    "print(f\"T-test\\nT-Score: {t_score},\\nT-Critical: {t_critical}\\n\")\n",
    "print(f\"Sample mean: {x_mean} \\nStandard Deviation: {std_dev}\\n \")\n",
    "\n",
    "\n",
    "if abs(t_score) > t_critical:\n",
    "    print(\"Null hupothesis is REJECTED\")\n",
    "else:\n",
    "     print(\"Null hupothesis is ACCEPTED\")"
   ]
  },
  {
   "cell_type": "markdown",
   "metadata": {},
   "source": [
    "### Example 09\n",
    "One tail (Right) t-test\n",
    "One Sample T Test\n",
    "\n",
    "In IMSciences, A Lecturer wants to know if is\n",
    "introductory statistics class has a good grasp of basic math.\n",
    "Six students are chosen at random from the class and given a\n",
    "math proficiency test. The teacher wants the class to be able\n",
    "to score above 70 on the test. The six students get scores of\n",
    "62, 92, 75, 68, 83, and 95. Can the teacher have 90 percent\n",
    "confidence that the mean score for the class on the test would\n",
    "be above 70?\n"
   ]
  },
  {
   "cell_type": "code",
   "execution_count": 17,
   "metadata": {},
   "outputs": [
    {
     "name": "stdout",
     "output_type": "stream",
     "text": [
      "T-test\n",
      "T-Score: 1.8680774921376846,\n",
      "T-Critical: 1.4758840488558216\n",
      "\n",
      "Sample mean: 79.16666666666667 \n",
      "Standard Deviation: 12.019659821401861\n",
      " \n",
      "Null hupothesis is REJECTED\n"
     ]
    }
   ],
   "source": [
    "x = np.array([62, 92, 75, 68, 83, 95])\n",
    "p_mean = 70\n",
    "n = 6\n",
    "df = n - 1\n",
    "levelOfConfidence = 0.9\n",
    "x_mean = np.mean(x)\n",
    "std_dev = np.std(x)\n",
    "\n",
    "t_score = (x_mean - p_mean) / (std_dev/(n**(1/2)))\n",
    "t_critical = t.ppf(levelOfConfidence, df)\n",
    "\n",
    "print(f\"T-test\\nT-Score: {t_score},\\nT-Critical: {t_critical}\\n\")\n",
    "print(f\"Sample mean: {x_mean} \\nStandard Deviation: {std_dev}\\n \")\n",
    "\n",
    "if abs(t_score) > t_critical:\n",
    "    print(\"Null hupothesis is REJECTED\")\n",
    "else:\n",
    "     print(\"Null hupothesis is ACCEPTED\")"
   ]
  },
  {
   "cell_type": "markdown",
   "metadata": {},
   "source": [
    "### Example 10\n",
    "\n",
    "Two Tail T-Test\n",
    "\n",
    "Pakistan A hockey team coach wants to know if his \n",
    "team is representative of other teams in scoring goals. \n",
    "Nationally, the average number of goal scored by a Pakistan \n",
    "A team in a game is 5.7. He chooses five games at random in \n",
    "which his team scored 5 , 9, 4, 11, and 8 goals. Is it likely \n",
    "that his team's goal could have come from the national \n",
    "distribution? Assume an alpha level of 0.05"
   ]
  },
  {
   "cell_type": "code",
   "execution_count": 22,
   "metadata": {},
   "outputs": [
    {
     "name": "stdout",
     "output_type": "stream",
     "text": [
      "T-test\n",
      "T-Score: 1.4751965358138248,\n",
      "T-Critical: 2.7764451051977987\n",
      "\n",
      "Sample mean: 7.4 \n",
      "Standard Deviation: 2.5768197453450252\n",
      " \n",
      "Null hupothesis is ACCEPTED\n"
     ]
    }
   ],
   "source": [
    "x = np.array([5, 9, 4, 11, 8])\n",
    "n = len(x)\n",
    "df = n - 1\n",
    "alpha = 0.05/2      # Two tail t-test\n",
    "levelOfConfidence = 1 - alpha\n",
    "p_mean = 5.7\n",
    "x_mean = np.mean(x)\n",
    "std_dev = np.std(x)\n",
    "\n",
    "t_score = (x_mean - p_mean) / (std_dev/(n**(0.5)))\n",
    "t_critical = t.ppf(levelOfConfidence, df)\n",
    "\n",
    "print(f\"T-test\\nT-Score: {t_score},\\nT-Critical: {t_critical}\\n\")\n",
    "print(f\"Sample mean: {x_mean} \\nStandard Deviation: {std_dev}\\n \")\n",
    "\n",
    "if abs(t_score) > t_critical:\n",
    "    print(\"Null hupothesis is REJECTED\")\n",
    "else:\n",
    "     print(\"Null hupothesis is ACCEPTED\")"
   ]
  },
  {
   "cell_type": "code",
   "execution_count": null,
   "metadata": {},
   "outputs": [],
   "source": []
  }
 ],
 "metadata": {
  "kernelspec": {
   "display_name": "Python 3",
   "language": "python",
   "name": "python3"
  },
  "language_info": {
   "codemirror_mode": {
    "name": "ipython",
    "version": 3
   },
   "file_extension": ".py",
   "mimetype": "text/x-python",
   "name": "python",
   "nbconvert_exporter": "python",
   "pygments_lexer": "ipython3",
   "version": "3.12.1"
  }
 },
 "nbformat": 4,
 "nbformat_minor": 2
}
