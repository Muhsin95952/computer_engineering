{
 "cells": [
  {
   "cell_type": "markdown",
   "metadata": {},
   "source": [
    "# Lab 07 T-test\n"
   ]
  },
  {
   "cell_type": "code",
   "execution_count": 27,
   "metadata": {},
   "outputs": [],
   "source": [
    "from scipy.stats import t\n",
    "import numpy as np"
   ]
  },
  {
   "cell_type": "markdown",
   "metadata": {},
   "source": [
    "### Example 01\n",
    "Paired Sample t Test\n",
    "\n",
    " Suppose we conduct a two-sided hypothesis test \n",
    "at alpha level 0.05 to find out if mean weight loss differs \n",
    "between two diets. Suppose our test statistic t is 1.34 \n",
    "and our degrees of freedom is 22. We would like to know \n",
    "if these results are statistically significant."
   ]
  },
  {
   "cell_type": "code",
   "execution_count": 28,
   "metadata": {},
   "outputs": [
    {
     "name": "stdout",
     "output_type": "stream",
     "text": [
      "Null hupothesis is  ACCEPTED\n"
     ]
    }
   ],
   "source": [
    "t_score = 1.34\n",
    "alpha = 0.05\n",
    "levelOfConfidence = 1 - alpha\n",
    "df = 22\n",
    "\n",
    "t_critical = t.ppf(levelOfConfidence, df)\n",
    "\n",
    "if t_score > t_critical:\n",
    "    print(\"Null hupothesis is  REJECTED\")\n",
    "else:\n",
    "    print(\"Null hupothesis is  ACCEPTED\")\n",
    "\n"
   ]
  },
  {
   "cell_type": "markdown",
   "metadata": {},
   "source": [
    "### Example 02\n",
    "Paired Sample t Test\n",
    "\n",
    " Suppose we want to know whether\n",
    "or not a certain training program is able to\n",
    "increase the max vertical jump (in inches) of\n",
    "college basketball players. To test this, we\n",
    "may recruit a simple random sample of 20\n",
    "college basketball players and measure each\n",
    "of their max vertical jumps. Then, we may\n",
    "have each player use the training program\n",
    "for one month and then measure their max\n",
    "vertical jump again at the end of the month."
   ]
  },
  {
   "cell_type": "code",
   "execution_count": null,
   "metadata": {},
   "outputs": [
    {
     "name": "stdout",
     "output_type": "stream",
     "text": [
      "t_score -3.3099839773324087 t_critical 2.093024054408263\n",
      "Null hupothesis is REJECTED\n"
     ]
    }
   ],
   "source": [
    "sample1 = np.array([22, 20, 19, 24, 25, 25, 28, 22, 30, 27, 24, 18, 16, 19,19, 28, 24, 25, 25, 23])\n",
    "sample2 = np.array([24, 22,19, 22, 28, 26, 28, 24, 30, 29, 25, 20, 17, 18, 18, 28, 26, 27, 27, 24])\n",
    "n = len(sample1)\n",
    "df = n - 1\n",
    "alpha = 0.05\n",
    "levelOfConfidence = 1 - alpha / 2 # for two tail test\n",
    "diff = sample1 - sample2\n",
    "diff_mean = np.mean(diff)\n",
    "std_dev = np.std(diff)\n",
    "\n",
    "t_score = diff_mean / (std_dev/(n**0.5))\n",
    "t_critical = t.ppf(levelOfConfidence, df)\n",
    "print(\"t_score\",t_score,\"t_critical\",t_critical)\n",
    "\n",
    "if t_score > t_critical or t_score < -t_critical:\n",
    "    print(\"Null hupothesis is REJECTED\")\n",
    "else:\n",
    "     print(\"Null hupothesis is ACCEPTED\")\n"
   ]
  },
  {
   "cell_type": "markdown",
   "metadata": {},
   "source": [
    "### Example 03\n",
    "Example of One-tailed (Right) Paired \n",
    "t-test\n",
    "\n",
    "\n",
    "Artificial Intelligence (AI) training institute\n",
    "evaluating the effectiveness of training by comparing AI\n",
    "knowledge of the students before and after the execution of\n",
    "live projects. At a 95% confidence level, does this information\n",
    "provide sufficient evidence to indicate that the live projects\n",
    "will improve the students’ AI knowledge?\n"
   ]
  },
  {
   "cell_type": "code",
   "execution_count": 32,
   "metadata": {},
   "outputs": [
    {
     "name": "stdout",
     "output_type": "stream",
     "text": [
      "t_score -2.3749385185432432 t_critical 1.894578605061305\n",
      "Null hupothesis is REJECTED\n"
     ]
    }
   ],
   "source": [
    "sample1 = np.array([55, 56, 72, 59, 46, 50, 63, 44])\n",
    "sample2 = np.array([65, 78, 60, 58, 59, 57, 74, 61])\n",
    "n = len(sample1)\n",
    "df = n - 1\n",
    "alpha = 0.05\n",
    "levelOfConfidence = 1 - alpha\n",
    "diff = sample1 - sample2\n",
    "diff_mean = np.mean(diff)\n",
    "std_dev = np.std(diff)\n",
    "\n",
    "t_score = diff_mean / (std_dev/(n**0.5))\n",
    "t_critical = t.ppf(levelOfConfidence, df)\n",
    "print(\"t_score\",t_score,\"t_critical\",t_critical)\n",
    "\n",
    "if abs(t_score) > t_critical:\n",
    "    print(\"Null hupothesis is REJECTED\")\n",
    "else:\n",
    "     print(\"Null hupothesis is ACCEPTED\")"
   ]
  }
 ],
 "metadata": {
  "kernelspec": {
   "display_name": "Python 3",
   "language": "python",
   "name": "python3"
  },
  "language_info": {
   "codemirror_mode": {
    "name": "ipython",
    "version": 3
   },
   "file_extension": ".py",
   "mimetype": "text/x-python",
   "name": "python",
   "nbconvert_exporter": "python",
   "pygments_lexer": "ipython3",
   "version": "3.12.1"
  }
 },
 "nbformat": 4,
 "nbformat_minor": 2
}
