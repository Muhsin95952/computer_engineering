{
 "cells": [
  {
   "cell_type": "markdown",
   "metadata": {},
   "source": [
    "## Lab 08 Chi square Teasting\n"
   ]
  },
  {
   "cell_type": "markdown",
   "metadata": {},
   "source": [
    "#### Example 01:\n"
   ]
  },
  {
   "cell_type": "code",
   "execution_count": 1,
   "metadata": {},
   "outputs": [],
   "source": [
    "import numpy as np\n",
    "from scipy.stats import chi2"
   ]
  },
  {
   "cell_type": "markdown",
   "metadata": {},
   "source": []
  },
  {
   "cell_type": "code",
   "execution_count": 2,
   "metadata": {},
   "outputs": [
    {
     "name": "stdout",
     "output_type": "stream",
     "text": [
      "the chi sqr statistic is 26.666666666666668\n",
      "and the critcial value is 7.814727903251179\n",
      "Reject Null Hypothesis\n"
     ]
    }
   ],
   "source": [
    "#observed frequency \n",
    "observed = np.array([50,30,30,10])\n",
    "expected = np.array([30,30,30,30])\n",
    "chi2_stat = 0\n",
    "df = len(observed) - 1\n",
    "aplha = 0.05\n",
    "for x in range(len(observed)):\n",
    "    a = observed[x] - expected[x]\n",
    "    a = a*a\n",
    "    a = a/expected[x]\n",
    "    chi2_stat += a\n",
    "\n",
    "chi2_critical = chi2.ppf(1-aplha,df)\n",
    "\n",
    "print(f\"the chi sqr statistic is {chi2_stat}\\nand the critcial value is {chi2_critical}\")\n",
    "\n",
    "if chi2_critical > abs(chi2_stat):\n",
    "    print(\"Not reject Null Hypothisis\")\n",
    "else:\n",
    "    print(\"Reject Null Hypothesis\")\n"
   ]
  },
  {
   "cell_type": "markdown",
   "metadata": {},
   "source": [
    "### Example 2"
   ]
  },
  {
   "cell_type": "code",
   "execution_count": 3,
   "metadata": {},
   "outputs": [
    {
     "name": "stdout",
     "output_type": "stream",
     "text": [
      "Observed = [[10 50 35]\n",
      " [15 60 40]]\n",
      "\n",
      "Expected = [[11.30952381 49.76190476 33.92857143]\n",
      " [13.69047619 60.23809524 41.07142857]]\n",
      "\n",
      "Degree of Freedom = 2\n",
      "\n",
      "Chi2 Score = 0.3407530684418557\n",
      "Chi2_critical = 5.991464547107979\n",
      "\n",
      "\n",
      "do Not reject Null Hypothisis\n"
     ]
    }
   ],
   "source": [
    "#observed frequency \n",
    "observed = np.array([[10,50,35],[15,60,40]])\n",
    "rows, columns = observed.shape\n",
    "\n",
    "row_totals = np.sum(observed, axis=1)\n",
    "column_totals = np.sum(observed, axis=0)\n",
    "total = np.sum(row_totals)\n",
    "\n",
    "product_matrix = np.outer(row_totals, column_totals)\n",
    "expected = product_matrix / total\n",
    "df = (rows - 1)*(columns - 1)\n",
    "\n",
    "print(f\"Observed = {observed}\\n\\nExpected = {expected}\\n\\nDegree of Freedom = {df}\\n\")\n",
    "\n",
    "chi_score = np.sum((observed - expected)**2 / expected)\n",
    "chi_critical = chi2.ppf(1 - aplha, df)\n",
    "\n",
    "print(f\"Chi2 Score = {chi_score}\\nChi2_critical = {chi_critical}\\n\\n\")\n",
    "if chi_critical > abs(chi_score):\n",
    "    print(\"do Not reject Null Hypothisis\")\n",
    "else:\n",
    "    print(\"Reject Null Hypothesis\")\n"
   ]
  },
  {
   "cell_type": "markdown",
   "metadata": {},
   "source": [
    "### Example 3\n",
    "Chi-Square test for independence- An Example"
   ]
  },
  {
   "cell_type": "code",
   "execution_count": 4,
   "metadata": {},
   "outputs": [
    {
     "name": "stdout",
     "output_type": "stream",
     "text": [
      "Observed = [[ 12 108]\n",
      " [ 24 156]]\n",
      "\n",
      "Expected = [[ 14.4 105.6]\n",
      " [ 21.6 158.4]]\n",
      "\n",
      "Degree of Freedom = 1\n",
      "\n",
      "Chi2 Score = 0.7575757575757577\n",
      "Chi2_critical = 3.841458820694124\n",
      "\n",
      "\n",
      "do Not reject Null Hypothisis\n"
     ]
    }
   ],
   "source": [
    "observed = np.array([[12, 108],[24, 156]])\n",
    "rows, columns = observed.shape\n",
    "\n",
    "row_totals = np.sum(observed, axis=1)\n",
    "column_totals = np.sum(observed, axis=0)\n",
    "total = np.sum(row_totals)\n",
    "\n",
    "product_matrix = np.outer(row_totals, column_totals)\n",
    "\n",
    "expected = product_matrix / total\n",
    "df = (rows - 1)*(columns - 1)\n",
    "\n",
    "print(f\"Observed = {observed}\\n\\nExpected = {expected}\\n\\nDegree of Freedom = {df}\\n\")\n",
    "\n",
    "chi_score = np.sum((observed - expected)**2 / expected)\n",
    "chi_critical = chi2.ppf(1 - aplha, df)\n",
    "\n",
    "print(f\"Chi2 Score = {chi_score}\\nChi2_critical = {chi_critical}\\n\\n\")\n",
    "if chi_critical > abs(chi_score):\n",
    "    print(\"do Not reject Null Hypothisis\")\n",
    "else:\n",
    "    print(\"Reject Null Hypothesis\")"
   ]
  },
  {
   "cell_type": "markdown",
   "metadata": {},
   "source": [
    "### Example 04\n",
    "The meal plan selected by 200 students"
   ]
  },
  {
   "cell_type": "code",
   "execution_count": 5,
   "metadata": {},
   "outputs": [
    {
     "name": "stdout",
     "output_type": "stream",
     "text": [
      "Observed = [[24 32 14]\n",
      " [22 26 12]\n",
      " [10 14  6]\n",
      " [14 16 10]]\n",
      "\n",
      "Expected = [[24.5 30.8 14.7]\n",
      " [21.  26.4 12.6]\n",
      " [10.5 13.2  6.3]\n",
      " [14.  17.6  8.4]]\n",
      "\n",
      "Degree of Freedom = 6\n",
      "\n",
      "Chi2 Score = 0.7093382807668522\n",
      "Chi2_critical = 12.591587243743977\n",
      "\n",
      "\n",
      "do Not reject Null Hypothisis\n"
     ]
    }
   ],
   "source": [
    "observed = np.array([[24, 32, 14], [22, 26, 12], [10, 14, 6], [14, 16, 10]])\n",
    "rows, columns = observed.shape\n",
    "\n",
    "row_totals = np.sum(observed, axis=1)\n",
    "column_totals = np.sum(observed, axis=0)\n",
    "total = np.sum(row_totals)\n",
    "\n",
    "product_matrix = np.outer(row_totals, column_totals)\n",
    "\n",
    "expected = product_matrix / total\n",
    "df = (rows - 1)*(columns - 1)\n",
    "\n",
    "print(f\"Observed = {observed}\\n\\nExpected = {expected}\\n\\nDegree of Freedom = {df}\\n\")\n",
    "\n",
    "chi_score = np.sum((observed - expected)**2 / expected)\n",
    "chi_critical = chi2.ppf(1 - aplha, df)\n",
    "\n",
    "print(f\"Chi2 Score = {chi_score}\\nChi2_critical = {chi_critical}\\n\\n\")\n",
    "if chi_critical > abs(chi_score):\n",
    "    print(\"do Not reject Null Hypothisis\")\n",
    "else:\n",
    "    print(\"Reject Null Hypothesis\")"
   ]
  },
  {
   "cell_type": "markdown",
   "metadata": {},
   "source": [
    "### Example 05\n",
    "Award Preference & SAT"
   ]
  },
  {
   "cell_type": "code",
   "execution_count": 6,
   "metadata": {},
   "outputs": [
    {
     "name": "stdout",
     "output_type": "stream",
     "text": [
      "Observed = [[ 21  68 116]\n",
      " [ 10  79  61]]\n",
      "\n",
      "Expected = [[ 17.90140845  84.88732394 102.21126761]\n",
      " [ 13.09859155  62.11267606  74.78873239]]\n",
      "\n",
      "Degree of Freedom = 2\n",
      "\n",
      "Chi2 Score = 13.622609647147335\n",
      "Chi2_critical = 5.991464547107979\n",
      "\n",
      "\n",
      "Reject Null Hypothesis\n"
     ]
    }
   ],
   "source": [
    "observed = np.array([[21, 68, 116],[10, 79, 61]])\n",
    "rows, columns = observed.shape\n",
    "\n",
    "row_totals = np.sum(observed, axis=1)\n",
    "column_totals = np.sum(observed, axis=0)\n",
    "total = np.sum(row_totals)\n",
    "\n",
    "product_matrix = np.outer(row_totals, column_totals)\n",
    "expected = product_matrix / total\n",
    "df = (rows - 1)*(columns - 1)\n",
    "\n",
    "print(f\"Observed = {observed}\\n\\nExpected = {expected}\\n\\nDegree of Freedom = {df}\\n\")\n",
    "chi_score = np.sum((observed - expected)**2 / expected)\n",
    "chi_critical = chi2.ppf(1 - aplha, df)\n",
    "\n",
    "print(f\"Chi2 Score = {chi_score}\\nChi2_critical = {chi_critical}\\n\\n\")\n",
    "if chi_critical > abs(chi_score):\n",
    "    print(\"do Not reject Null Hypothisis\")\n",
    "else:\n",
    "    print(\"Reject Null Hypothesis\")"
   ]
  },
  {
   "cell_type": "markdown",
   "metadata": {},
   "source": [
    "### Example 06\n",
    "- Is there a preference for ice cream flavors among different age groups?"
   ]
  },
  {
   "cell_type": "code",
   "execution_count": 7,
   "metadata": {},
   "outputs": [
    {
     "name": "stdout",
     "output_type": "stream",
     "text": [
      "Observed = [[35 25 15]\n",
      " [20 30 20]\n",
      " [25 20 25]]\n",
      "\n",
      "Expected = [[27.90697674 26.1627907  20.93023256]\n",
      " [26.04651163 24.41860465 19.53488372]\n",
      " [26.04651163 24.41860465 19.53488372]]\n",
      "\n",
      "Degree of Freedom = 4\n",
      "\n",
      "Chi2 Score = 8.595734126984128\n",
      "Chi2_critical = 9.487729036781154\n",
      "\n",
      "\n",
      "do Not reject Null Hypothisis\n"
     ]
    }
   ],
   "source": [
    "observed = np.array([[35, 25, 15],[20, 30, 20], [25, 20, 25]])\n",
    "rows, columns = observed.shape\n",
    "\n",
    "row_totals = np.sum(observed, axis=1)\n",
    "column_totals = np.sum(observed, axis=0)\n",
    "total = np.sum(row_totals)\n",
    "\n",
    "product_matrix = np.outer(row_totals, column_totals)\n",
    "expected = product_matrix / total\n",
    "df = (rows - 1)*(columns - 1)\n",
    "\n",
    "print(f\"Observed = {observed}\\n\\nExpected = {expected}\\n\\nDegree of Freedom = {df}\\n\")\n",
    "chi_score = np.sum((observed - expected)**2 / expected)\n",
    "chi_critical = chi2.ppf(1 - aplha, df)\n",
    "\n",
    "print(f\"Chi2 Score = {chi_score}\\nChi2_critical = {chi_critical}\\n\\n\")\n",
    "if chi_critical > abs(chi_score):\n",
    "    print(\"do Not reject Null Hypothisis\")\n",
    "else:\n",
    "    print(\"Reject Null Hypothesis\")"
   ]
  },
  {
   "cell_type": "markdown",
   "metadata": {},
   "source": [
    "### Example 07\n",
    "Are the outcomes of a six-sided die roll equally distributed?"
   ]
  },
  {
   "cell_type": "code",
   "execution_count": 8,
   "metadata": {},
   "outputs": [
    {
     "name": "stdout",
     "output_type": "stream",
     "text": [
      "the chi sqr statistic is 9.078188362327534\n",
      "and the critcial value is 11.070497693516351\n",
      "Not reject Null Hypothisis\n"
     ]
    }
   ],
   "source": [
    "#observed frequency \n",
    "observed = np.array([15, 20, 10, 18, 12, 25])\n",
    "expected = np.array([16.67, 16.67, 16.67, 16.67, 16.67, 16.67])\n",
    "chi2_stat = 0\n",
    "df = len(observed) - 1\n",
    "aplha = 0.05\n",
    "for x in range(len(observed)):\n",
    "    a = observed[x] - expected[x]\n",
    "    a = a*a\n",
    "    a = a/expected[x]\n",
    "    chi2_stat += a\n",
    "\n",
    "chi2_critical = chi2.ppf(1-aplha,df)\n",
    "print(f\"the chi sqr statistic is {chi2_stat}\\nand the critcial value is {chi2_critical}\")\n",
    "\n",
    "if chi2_critical > abs(chi2_stat):\n",
    "    print(\"Not reject Null Hypothisis\")\n",
    "else:\n",
    "    print(\"Reject Null Hypothesis\")\n"
   ]
  },
  {
   "cell_type": "markdown",
   "metadata": {},
   "source": [
    "### Example 08\n",
    "\n",
    "Does the choice of transportation (Car, Bike, Walk) vary by region (Urban, \n",
    "Suburban, Rural)?"
   ]
  },
  {
   "cell_type": "code",
   "execution_count": 9,
   "metadata": {},
   "outputs": [
    {
     "name": "stdout",
     "output_type": "stream",
     "text": [
      "Observed = [[40 30 20]\n",
      " [50 20 10]\n",
      " [30 10 60]]\n",
      "\n",
      "Expected = [[40.         20.         30.        ]\n",
      " [35.55555556 17.77777778 26.66666667]\n",
      " [44.44444444 22.22222222 33.33333333]]\n",
      "\n",
      "Degree of Freedom = 4\n",
      "\n",
      "Chi2 Score = 57.64583333333333\n",
      "Chi2_critical = 9.487729036781154\n",
      "\n",
      "\n",
      "Reject Null Hypothesis\n"
     ]
    }
   ],
   "source": [
    "observed = np.array([[40, 30, 20],[50, 20, 10], [30, 10, 60]])\n",
    "rows, columns = observed.shape\n",
    "\n",
    "row_totals = np.sum(observed, axis=1)\n",
    "column_totals = np.sum(observed, axis=0)\n",
    "total = np.sum(row_totals)\n",
    "\n",
    "product_matrix = np.outer(row_totals, column_totals)\n",
    "\n",
    "expected = product_matrix / total\n",
    "df = (rows - 1)*(columns - 1)\n",
    "\n",
    "print(f\"Observed = {observed}\\n\\nExpected = {expected}\\n\\nDegree of Freedom = {df}\\n\")\n",
    "chi_score = np.sum((observed - expected)**2 / expected)\n",
    "chi_critical = chi2.ppf(1 - aplha, df)\n",
    "print(f\"Chi2 Score = {chi_score}\\nChi2_critical = {chi_critical}\\n\\n\")\n",
    "if chi_critical > abs(chi_score):\n",
    "    print(\"do Not reject Null Hypothisis\")\n",
    "else:\n",
    "    print(\"Reject Null Hypothesis\")"
   ]
  },
  {
   "cell_type": "markdown",
   "metadata": {},
   "source": [
    "### Example 09\n",
    "- Are the observed and expected distributions of grades in a class \n",
    "significantly different?\n"
   ]
  },
  {
   "cell_type": "code",
   "execution_count": 10,
   "metadata": {},
   "outputs": [
    {
     "name": "stdout",
     "output_type": "stream",
     "text": [
      "the chi sqr statistic is 7.083333333333334\n",
      "and the critcial value is 9.487729036781154\n",
      "Not reject Null Hypothisis\n"
     ]
    }
   ],
   "source": [
    "#observed frequency \n",
    "observed = np.array([15, 30, 40, 10, 5])\n",
    "expected = np.array([20, 30, 30, 10, 10])\n",
    "chi2_stat = 0\n",
    "df = len(observed) - 1\n",
    "aplha = 0.05\n",
    "for x in range(len(observed)):\n",
    "    a = observed[x] - expected[x]\n",
    "    a = a*a\n",
    "    a = a/expected[x]\n",
    "    chi2_stat += a\n",
    "\n",
    "chi2_critical = chi2.ppf(1-aplha,df)\n",
    "print(f\"the chi sqr statistic is {chi2_stat}\\nand the critcial value is {chi2_critical}\")\n",
    "\n",
    "if chi2_critical > abs(chi2_stat):\n",
    "    print(\"Not reject Null Hypothisis\")\n",
    "else:\n",
    "    print(\"Reject Null Hypothesis\")\n"
   ]
  }
 ],
 "metadata": {
  "kernelspec": {
   "display_name": "Python 3",
   "language": "python",
   "name": "python3"
  },
  "language_info": {
   "codemirror_mode": {
    "name": "ipython",
    "version": 3
   },
   "file_extension": ".py",
   "mimetype": "text/x-python",
   "name": "python",
   "nbconvert_exporter": "python",
   "pygments_lexer": "ipython3",
   "version": "3.12.1"
  }
 },
 "nbformat": 4,
 "nbformat_minor": 2
}
