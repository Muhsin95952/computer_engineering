{
 "cells": [
  {
   "cell_type": "markdown",
   "id": "eded75cd",
   "metadata": {},
   "source": [
    "# Data Analytics Lab Report 06"
   ]
  },
  {
   "cell_type": "code",
   "execution_count": 2,
   "id": "4e354f15",
   "metadata": {},
   "outputs": [],
   "source": [
    "from scipy.stats import norm\n"
   ]
  },
  {
   "cell_type": "markdown",
   "id": "a2f916fa",
   "metadata": {},
   "source": [
    "### Task 1: One-sample Z-test"
   ]
  },
  {
   "cell_type": "code",
   "execution_count": 3,
   "id": "e1e763e8",
   "metadata": {},
   "outputs": [
    {
     "name": "stdout",
     "output_type": "stream",
     "text": [
      "Z-test\n",
      "Z-Score: 1.0954451150103321,\n",
      "Z-Critical: 1.959963984540054\n",
      "\n",
      "Null Hypothesis is ACCEPTED.\n"
     ]
    }
   ],
   "source": [
    "population_mean = 50\n",
    "sample_mean  = 52\n",
    "std_dev = 10\n",
    "n = 30\n",
    "alpha = 0.05\n",
    "z_score = (sample_mean - population_mean) / (std_dev / n**(1/2))\n",
    "z_critical = norm.ppf(1 - alpha/2)\n",
    "print(f\"Z-test\\nZ-Score: {z_score},\\nZ-Critical: {z_critical}\\n\")\n",
    "\n",
    "\n",
    "if abs(z_score) > z_critical:\n",
    "    print(\"Null Hypothesis is REJECTED.\")\n",
    "else:\n",
    "    print(\"Null Hypothesis is ACCEPTED.\")"
   ]
  },
  {
   "cell_type": "markdown",
   "id": "17ccbd2a",
   "metadata": {},
   "source": [
    "### Task 2: Two-sample Z-test"
   ]
  },
  {
   "cell_type": "code",
   "execution_count": 9,
   "id": "70849dd8",
   "metadata": {},
   "outputs": [
    {
     "name": "stdout",
     "output_type": "stream",
     "text": [
      "Two-sample Z-test\n",
      "Z-Score: 3.0839697737198057, P-Value: 0.0020425834677977317\n",
      "\n",
      "Null Hypothesis is REJECTED.\n"
     ]
    }
   ],
   "source": [
    "mean1 = 60\n",
    "std1 = 8\n",
    "n1 = 40\n",
    "mean2 = 55\n",
    "std2 = 6\n",
    "n2 = 35\n",
    "pooled_std_error = ((std1**2 / n1) + (std2**2 / n2))**(1/2)\n",
    "z_score = (mean1 - mean2) / pooled_std_error\n",
    "p_value = 2 * (1 - norm.cdf(abs(z_score)))\n",
    "print(f\"Two-sample Z-test\\nZ-Score: {z_score}, P-Value: {p_value}\\n\")\n",
    "\n",
    "if abs(z_score) > p_value:\n",
    "    print(\"Null Hypothesis is REJECTED.\")\n",
    "else:\n",
    "    print(\"Null Hypothesis is ACCEPTED.\")\n"
   ]
  },
  {
   "cell_type": "markdown",
   "id": "71e3ef90",
   "metadata": {},
   "source": [
    "### Task 3: Proportion Z-test"
   ]
  },
  {
   "cell_type": "code",
   "execution_count": 10,
   "id": "a82c7e48",
   "metadata": {},
   "outputs": [
    {
     "name": "stdout",
     "output_type": "stream",
     "text": [
      "Proportion Z-test\n",
      "Z-Score: 0.0, P-Value: 1.0\n",
      "\n",
      "Null Hypothesis is ACCEPTED.\n"
     ]
    }
   ],
   "source": [
    "p1 = 120 / 200\n",
    "p2 = 90 / 150\n",
    "n1 = 200\n",
    "n2 = 150\n",
    "p_pooled = (120 + 90) / (200 + 150)\n",
    "z_score = (p1 - p2) / (p_pooled * (1 - p_pooled) * (1 / n1 + 1 / n2))**(1/2)\n",
    "p_value = 2 * (1 - norm.cdf(abs(z_score)))\n",
    "print(f\"Proportion Z-test\\nZ-Score: {z_score}, P-Value: {p_value}\\n\")\n",
    "\n",
    "if abs(z_score) > p_value:\n",
    "    print(\"Null Hypothesis is REJECTED.\")\n",
    "else:\n",
    "    print(\"Null Hypothesis is ACCEPTED.\")"
   ]
  },
  {
   "cell_type": "markdown",
   "id": "64f7ad07",
   "metadata": {},
   "source": [
    "### Task 4: One-sample Z-test for battery life"
   ]
  },
  {
   "cell_type": "code",
   "execution_count": 5,
   "id": "c97321ea",
   "metadata": {},
   "outputs": [
    {
     "name": "stdout",
     "output_type": "stream",
     "text": [
      "Z-test\n",
      "Z-Score: -6.0,\n",
      "Z-Critical: 1.6448536269514722\n",
      "\n",
      "Null Hypothesis is REJECTED.\n"
     ]
    }
   ],
   "source": [
    "population_mean = 200\n",
    "sample_mean = 195\n",
    "variance = 25\n",
    "n = 36\n",
    "alpha = 0.05\n",
    "\n",
    "std_dev = variance**(1/2)\n",
    "\n",
    "z_score = (sample_mean - population_mean) / (std_dev / n**(1/2))\n",
    "z_critical = norm.ppf(1 - alpha)\n",
    "print(f\"Z-test\\nZ-Score: {z_score},\\nZ-Critical: {z_critical}\\n\")\n",
    "\n",
    "\n",
    "if abs(z_score) > z_critical:\n",
    "    print(\"Null Hypothesis is REJECTED.\")\n",
    "else:\n",
    "    print(\"Null Hypothesis is ACCEPTED.\")"
   ]
  },
  {
   "cell_type": "markdown",
   "id": "df836657",
   "metadata": {},
   "source": [
    "### Task 5: Two-sample Z-test for sample means"
   ]
  },
  {
   "cell_type": "code",
   "execution_count": 11,
   "id": "fb129aab",
   "metadata": {},
   "outputs": [
    {
     "name": "stdout",
     "output_type": "stream",
     "text": [
      "Two-sample Z-test for sample means\n",
      "Z-Score: 4.037864265436241, P-Value: 5.3940046883305115e-05\n",
      "\n",
      "Null Hypothesis is REJECTED.\n"
     ]
    }
   ],
   "source": [
    "mean1 = 70\n",
    "std1 = 5\n",
    "n1 = 25\n",
    "mean2 = 65\n",
    "std2 = 4\n",
    "n2 = 30\n",
    "pooled_std_error = ((std1**2 / n1) + (std2**2 / n2))**(1/2)\n",
    "z_score = (mean1 - mean2) / pooled_std_error\n",
    "p_value = 2 * (1 - norm.cdf(abs(z_score)))\n",
    "print(f\"Two-sample Z-test for sample means\\nZ-Score: {z_score}, P-Value: {p_value}\\n\")\n",
    "\n",
    "if abs(z_score) > p_value:\n",
    "    print(\"Null Hypothesis is REJECTED.\")\n",
    "else:\n",
    "    print(\"Null Hypothesis is ACCEPTED.\")"
   ]
  },
  {
   "cell_type": "markdown",
   "id": "2551ef80",
   "metadata": {},
   "source": [
    "### Task 6: Confidence interval for the mean"
   ]
  },
  {
   "cell_type": "code",
   "execution_count": null,
   "id": "5548457d",
   "metadata": {},
   "outputs": [
    {
     "name": "stdout",
     "output_type": "stream",
     "text": [
      "95% Confidence Interval: (76.42161171256569, 83.57838828743431)\n"
     ]
    }
   ],
   "source": [
    "sample_mean = 80\n",
    "std_dev = 10\n",
    "n = 30\n",
    "confidence_level = 0.95\n",
    "\n",
    "z_critical = norm.ppf(1 - (1 - confidence_level) / 2)\n",
    "\n",
    "standard_error = std_dev / n**(1/2)\n",
    "\n",
    "margin_of_error = z_critical * standard_error\n",
    "\n",
    "lower_bound = sample_mean - margin_of_error\n",
    "upper_bound = sample_mean + margin_of_error\n",
    "\n",
    "print(f\"95% Confidence Interval: ({lower_bound}, {upper_bound})\")\n"
   ]
  },
  {
   "cell_type": "markdown",
   "id": "451b2581",
   "metadata": {},
   "source": [
    "### Task 7: One-sample Z-test for weight"
   ]
  },
  {
   "cell_type": "code",
   "execution_count": 8,
   "id": "7e5842c6",
   "metadata": {},
   "outputs": [
    {
     "name": "stdout",
     "output_type": "stream",
     "text": [
      "Z-test\n",
      "Z-Score: 3.162277660168379,\n",
      "Z-Critical: 1.959963984540054\n",
      "\n",
      "Null Hypothesis is REJECTED.\n"
     ]
    }
   ],
   "source": [
    "population_mean = 158\n",
    "sample_mean = 160\n",
    "std_dev = 20\n",
    "n = 1000\n",
    "alpha = 0.05\n",
    "z_score = (sample_mean - population_mean) / (std_dev / n**(1/2))\n",
    "z_critical = norm.ppf(1 - alpha/2)\n",
    "print(f\"Z-test\\nZ-Score: {z_score},\\nZ-Critical: {z_critical}\\n\")\n",
    "\n",
    "\n",
    "if abs(z_score) > z_critical:\n",
    "    print(\"Null Hypothesis is REJECTED.\")\n",
    "else:\n",
    "    print(\"Null Hypothesis is ACCEPTED.\")"
   ]
  }
 ],
 "metadata": {
  "kernelspec": {
   "display_name": "Python 3",
   "language": "python",
   "name": "python3"
  },
  "language_info": {
   "codemirror_mode": {
    "name": "ipython",
    "version": 3
   },
   "file_extension": ".py",
   "mimetype": "text/x-python",
   "name": "python",
   "nbconvert_exporter": "python",
   "pygments_lexer": "ipython3",
   "version": "3.12.1"
  }
 },
 "nbformat": 4,
 "nbformat_minor": 5
}
