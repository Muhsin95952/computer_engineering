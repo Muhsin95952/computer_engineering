{
 "cells": [
  {
   "cell_type": "markdown",
   "id": "eded75cd",
   "metadata": {},
   "source": [
    "# Data Analytics Lab Report 06"
   ]
  },
  {
   "cell_type": "code",
   "execution_count": 2,
   "id": "4e354f15",
   "metadata": {},
   "outputs": [],
   "source": [
    "from scipy.stats import norm\n",
    "import math\n",
    "import pandas as pd"
   ]
  },
  {
   "cell_type": "markdown",
   "id": "a2f916fa",
   "metadata": {},
   "source": [
    "### Task 1: One-sample Z-test"
   ]
  },
  {
   "cell_type": "code",
   "execution_count": 3,
   "id": "e1e763e8",
   "metadata": {},
   "outputs": [
    {
     "name": "stdout",
     "output_type": "stream",
     "text": [
      "Task 1: One-sample Z-test\n",
      "Z-Score: 1.0954451150103321, P-Value: 0.27332167829229803\n",
      "\n"
     ]
    }
   ],
   "source": [
    "population_mean_1 = 50\n",
    "sample_mean_1 = 52\n",
    "sample_std_dev_1 = 10\n",
    "sample_size_1 = 30\n",
    "z_score_1 = (sample_mean_1 - population_mean_1) / (sample_std_dev_1 / math.sqrt(sample_size_1))\n",
    "p_value_1 = 2 * (1 - norm.cdf(abs(z_score_1)))\n",
    "print(f\"Task 1: One-sample Z-test\\nZ-Score: {z_score_1}, P-Value: {p_value_1}\\n\")"
   ]
  },
  {
   "cell_type": "markdown",
   "id": "17ccbd2a",
   "metadata": {},
   "source": [
    "### Task 2: Two-sample Z-test"
   ]
  },
  {
   "cell_type": "code",
   "execution_count": 4,
   "id": "70849dd8",
   "metadata": {},
   "outputs": [
    {
     "name": "stdout",
     "output_type": "stream",
     "text": [
      "Task 2: Two-sample Z-test\n",
      "Z-Score: 3.0839697737198057, P-Value: 0.0020425834677977317\n",
      "\n"
     ]
    }
   ],
   "source": [
    "mean1 = 60\n",
    "std1 = 8\n",
    "n1 = 40\n",
    "mean2 = 55\n",
    "std2 = 6\n",
    "n2 = 35\n",
    "pooled_std_error = math.sqrt((std1**2 / n1) + (std2**2 / n2))\n",
    "z_score_2 = (mean1 - mean2) / pooled_std_error\n",
    "p_value_2 = 2 * (1 - norm.cdf(abs(z_score_2)))\n",
    "print(f\"Task 2: Two-sample Z-test\\nZ-Score: {z_score_2}, P-Value: {p_value_2}\\n\")\n"
   ]
  },
  {
   "cell_type": "markdown",
   "id": "71e3ef90",
   "metadata": {},
   "source": [
    "### Task 3: Proportion Z-test"
   ]
  },
  {
   "cell_type": "code",
   "execution_count": 5,
   "id": "a82c7e48",
   "metadata": {},
   "outputs": [
    {
     "name": "stdout",
     "output_type": "stream",
     "text": [
      "Task 3: Proportion Z-test\n",
      "Z-Score: 0.0, P-Value: 1.0\n",
      "\n"
     ]
    }
   ],
   "source": [
    "p1 = 120 / 200\n",
    "p2 = 90 / 150\n",
    "n1 = 200\n",
    "n2 = 150\n",
    "p_pooled = (120 + 90) / (200 + 150)\n",
    "z_score_3 = (p1 - p2) / math.sqrt(p_pooled * (1 - p_pooled) * (1 / n1 + 1 / n2))\n",
    "p_value_3 = 2 * (1 - norm.cdf(abs(z_score_3)))\n",
    "print(f\"Task 3: Proportion Z-test\\nZ-Score: {z_score_3}, P-Value: {p_value_3}\\n\")\n"
   ]
  },
  {
   "cell_type": "markdown",
   "id": "64f7ad07",
   "metadata": {},
   "source": [
    "### Task 4: One-sample Z-test for battery life"
   ]
  },
  {
   "cell_type": "code",
   "execution_count": 6,
   "id": "c97321ea",
   "metadata": {},
   "outputs": [
    {
     "name": "stdout",
     "output_type": "stream",
     "text": [
      "Task 4: One-sample Z-test for battery life\n",
      "Z-Score: -6.0, P-Value: 1.973175400848959e-09\n",
      "\n"
     ]
    }
   ],
   "source": [
    "population_mean_4 = 200\n",
    "sample_mean_4 = 195\n",
    "population_variance_4 = 25\n",
    "sample_size_4 = 36\n",
    "z_score_4 = (sample_mean_4 - population_mean_4) / math.sqrt(population_variance_4 / sample_size_4)\n",
    "p_value_4 = 2 * (1 - norm.cdf(abs(z_score_4)))\n",
    "print(f\"Task 4: One-sample Z-test for battery life\\nZ-Score: {z_score_4}, P-Value: {p_value_4}\\n\")\n"
   ]
  },
  {
   "cell_type": "markdown",
   "id": "df836657",
   "metadata": {},
   "source": [
    "### Task 5: Two-sample Z-test for sample means"
   ]
  },
  {
   "cell_type": "code",
   "execution_count": 7,
   "id": "fb129aab",
   "metadata": {},
   "outputs": [
    {
     "name": "stdout",
     "output_type": "stream",
     "text": [
      "Task 5: Two-sample Z-test for sample means\n",
      "Z-Score: 4.037864265436241, P-Value: 5.3940046883305115e-05\n",
      "\n"
     ]
    }
   ],
   "source": [
    "mean1_5 = 70\n",
    "std1_5 = 5\n",
    "n1_5 = 25\n",
    "mean2_5 = 65\n",
    "std2_5 = 4\n",
    "n2_5 = 30\n",
    "pooled_std_error_5 = math.sqrt((std1_5**2 / n1_5) + (std2_5**2 / n2_5))\n",
    "z_score_5 = (mean1_5 - mean2_5) / pooled_std_error_5\n",
    "p_value_5 = 2 * (1 - norm.cdf(abs(z_score_5)))\n",
    "print(f\"Task 5: Two-sample Z-test for sample means\\nZ-Score: {z_score_5}, P-Value: {p_value_5}\\n\")\n"
   ]
  },
  {
   "cell_type": "markdown",
   "id": "2551ef80",
   "metadata": {},
   "source": [
    "### Task 6: Confidence interval for the mean"
   ]
  },
  {
   "cell_type": "code",
   "execution_count": 8,
   "id": "5548457d",
   "metadata": {},
   "outputs": [
    {
     "name": "stdout",
     "output_type": "stream",
     "text": [
      "Task 6: 95% Confidence Interval for the mean\n",
      "Confidence Interval: (np.float64(76.42161171256569), np.float64(83.57838828743431))\n",
      "\n"
     ]
    }
   ],
   "source": [
    "sample_mean_6 = 80\n",
    "sample_std_dev_6 = 10\n",
    "sample_size_6 = 30\n",
    "confidence_level = 0.95\n",
    "z_critical = norm.ppf(1 - (1 - confidence_level) / 2)\n",
    "margin_of_error = z_critical * (sample_std_dev_6 / math.sqrt(sample_size_6))\n",
    "confidence_interval_6 = (sample_mean_6 - margin_of_error, sample_mean_6 + margin_of_error)\n",
    "print(f\"Task 6: 95% Confidence Interval for the mean\\nConfidence Interval: {confidence_interval_6}\\n\")\n"
   ]
  },
  {
   "cell_type": "markdown",
   "id": "451b2581",
   "metadata": {},
   "source": [
    "### Task 7: One-sample Z-test for weight"
   ]
  },
  {
   "cell_type": "code",
   "execution_count": 9,
   "id": "7e5842c6",
   "metadata": {},
   "outputs": [
    {
     "name": "stdout",
     "output_type": "stream",
     "text": [
      "Task 7: One-sample Z-test for weight\n",
      "Z-Score: 3.162277660168379, P-Value: 0.0015654022580025018\n",
      "\n"
     ]
    }
   ],
   "source": [
    "population_mean_7 = 158\n",
    "sample_mean_7 = 160\n",
    "sample_std_dev_7 = 20\n",
    "sample_size_7 = 1000\n",
    "z_score_7 = (sample_mean_7 - population_mean_7) / (sample_std_dev_7 / math.sqrt(sample_size_7))\n",
    "p_value_7 = 2 * (1 - norm.cdf(abs(z_score_7)))\n",
    "print(f\"Task 7: One-sample Z-test for weight\\nZ-Score: {z_score_7}, P-Value: {p_value_7}\\n\")\n"
   ]
  }
 ],
 "metadata": {
  "kernelspec": {
   "display_name": "Python 3",
   "language": "python",
   "name": "python3"
  },
  "language_info": {
   "codemirror_mode": {
    "name": "ipython",
    "version": 3
   },
   "file_extension": ".py",
   "mimetype": "text/x-python",
   "name": "python",
   "nbconvert_exporter": "python",
   "pygments_lexer": "ipython3",
   "version": "3.12.1"
  }
 },
 "nbformat": 4,
 "nbformat_minor": 5
}
