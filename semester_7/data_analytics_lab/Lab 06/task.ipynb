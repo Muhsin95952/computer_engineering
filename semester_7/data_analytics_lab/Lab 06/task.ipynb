{
 "cells": [
  {
   "cell_type": "code",
   "execution_count": 1,
   "id": "task-1",
   "metadata": {},
   "outputs": [
    {
     "name": "stdout",
     "output_type": "stream",
     "text": [
      "Task 1: One-Sample Z-Test\n",
      "Z-Score: 1.0954451150103321\n",
      "P-Value: 0.27332167829229803\n"
     ]
    }
   ],
   "source": [
    "from scipy.stats import norm\n",
    "\n",
    "# Given data\n",
    "population_mean = 50\n",
    "sample_mean = 52\n",
    "sample_std_dev = 10\n",
    "sample_size = 30\n",
    "\n",
    "# Z-Test\n",
    "z_score = (sample_mean - population_mean) / (sample_std_dev / (sample_size ** 0.5))\n",
    "p_value = 2 * (1 - norm.cdf(abs(z_score)))\n",
    "\n",
    "print(\"Task 1: One-Sample Z-Test\")\n",
    "print(f\"Z-Score: {z_score}\")\n",
    "print(f\"P-Value: {p_value}\")"
   ]
  },
  {
   "cell_type": "code",
   "execution_count": 2,
   "id": "task-2",
   "metadata": {},
   "outputs": [
    {
     "name": "stdout",
     "output_type": "stream",
     "text": [
      "\n",
      "Task 2: Two-Sample Z-Test\n",
      "Z-Score: 3.0839697737198057\n",
      "P-Value: 0.0020425834677977317\n"
     ]
    }
   ],
   "source": [
    "# Given data\n",
    "mean1 = 60\n",
    "std1 = 8\n",
    "n1 = 40\n",
    "mean2 = 55\n",
    "std2 = 6\n",
    "n2 = 35\n",
    "\n",
    "# Z-Test\n",
    "pooled_std = ((std1 ** 2) / n1 + (std2 ** 2) / n2) ** 0.5\n",
    "z_score = (mean1 - mean2) / pooled_std\n",
    "p_value = 2 * (1 - norm.cdf(abs(z_score)))\n",
    "\n",
    "print(\"\\nTask 2: Two-Sample Z-Test\")\n",
    "print(f\"Z-Score: {z_score}\")\n",
    "print(f\"P-Value: {p_value}\")"
   ]
  },
  {
   "cell_type": "code",
   "execution_count": 3,
   "id": "task-3",
   "metadata": {},
   "outputs": [
    {
     "name": "stdout",
     "output_type": "stream",
     "text": [
      "\n",
      "Task 3: Proportion Z-Test\n",
      "Z-Score: 0.0\n",
      "P-Value: 1.0\n"
     ]
    }
   ],
   "source": [
    "# Given data\n",
    "n1 = 200\n",
    "x1 = 120\n",
    "n2 = 150\n",
    "x2 = 90\n",
    "\n",
    "# Proportions\n",
    "p1 = x1 / n1\n",
    "p2 = x2 / n2\n",
    "p_combined = (x1 + x2) / (n1 + n2)\n",
    "\n",
    "# Z-Test\n",
    "pooled_std = ((p_combined * (1 - p_combined)) * (1 / n1 + 1 / n2)) ** 0.5\n",
    "z_score = (p1 - p2) / pooled_std\n",
    "p_value = 2 * (1 - norm.cdf(abs(z_score)))\n",
    "\n",
    "print(\"\\nTask 3: Proportion Z-Test\")\n",
    "print(f\"Z-Score: {z_score}\")\n",
    "print(f\"P-Value: {p_value}\")"
   ]
  },
  {
   "cell_type": "code",
   "execution_count": 4,
   "id": "task-4",
   "metadata": {},
   "outputs": [
    {
     "name": "stdout",
     "output_type": "stream",
     "text": [
      "\n",
      "Task 4: Z-Test for Population Mean\n",
      "Z-Score: -6.0\n",
      "P-Value: 1.973175400848959e-09\n"
     ]
    }
   ],
   "source": [
    "# Given data\n",
    "claimed_mean = 200\n",
    "sample_mean = 195\n",
    "sample_size = 36\n",
    "population_variance = 25\n",
    "\n",
    "# Z-Test\n",
    "z_score = (sample_mean - claimed_mean) / (population_variance ** 0.5 / (sample_size ** 0.5))\n",
    "p_value = 2 * (1 - norm.cdf(abs(z_score)))\n",
    "\n",
    "print(\"\\nTask 4: Z-Test for Population Mean\")\n",
    "print(f\"Z-Score: {z_score}\")\n",
    "print(f\"P-Value: {p_value}\")"
   ]
  },
  {
   "cell_type": "code",
   "execution_count": 5,
   "id": "task-5",
   "metadata": {},
   "outputs": [
    {
     "name": "stdout",
     "output_type": "stream",
     "text": [
      "\n",
      "Task 5: Two-Sample Z-Test\n",
      "Z-Score: 4.037864265436241\n",
      "P-Value: 5.3940046883305115e-05\n"
     ]
    }
   ],
   "source": [
    "# Given data\n",
    "mean1 = 70\n",
    "std1 = 5\n",
    "n1 = 25\n",
    "mean2 = 65\n",
    "std2 = 4\n",
    "n2 = 30\n",
    "\n",
    "# Z-Test\n",
    "pooled_std = ((std1 ** 2) / n1 + (std2 ** 2) / n2) ** 0.5\n",
    "z_score = (mean1 - mean2) / pooled_std\n",
    "p_value = 2 * (1 - norm.cdf(abs(z_score)))\n",
    "\n",
    "print(\"\\nTask 5: Two-Sample Z-Test\")\n",
    "print(f\"Z-Score: {z_score}\")\n",
    "print(f\"P-Value: {p_value}\")"
   ]
  },
  {
   "cell_type": "code",
   "execution_count": 6,
   "id": "task-6",
   "metadata": {},
   "outputs": [
    {
     "name": "stdout",
     "output_type": "stream",
     "text": [
      "\n",
      "Task 6: 95% Confidence Interval\n",
      "Confidence Interval: (np.float64(76.42161171256569), np.float64(83.57838828743431))\n"
     ]
    }
   ],
   "source": [
    "# Given data\n",
    "sample_mean = 80\n",
    "sample_std_dev = 10\n",
    "sample_size = 30\n",
    "confidence_level = 0.95\n",
    "\n",
    "# Confidence Interval\n",
    "z_critical = norm.ppf(1 - (1 - confidence_level) / 2)\n",
    "margin_of_error = z_critical * (sample_std_dev / (sample_size ** 0.5))\n",
    "confidence_interval = (sample_mean - margin_of_error, sample_mean + margin_of_error)\n",
    "\n",
    "print(\"\\nTask 6: 95% Confidence Interval\")\n",
    "print(f\"Confidence Interval: {confidence_interval}\")"
   ]
  },
  {
   "cell_type": "code",
   "execution_count": 7,
   "id": "task-7",
   "metadata": {},
   "outputs": [
    {
     "name": "stdout",
     "output_type": "stream",
     "text": [
      "\n",
      "Task 7: One-Sample Z-Test for Weight\n",
      "Z-Score: 3.162277660168379\n",
      "P-Value: 0.0015654022580025018\n"
     ]
    }
   ],
   "source": [
    "# Given data\n",
    "claimed_mean = 158\n",
    "sample_mean = 160\n",
    "sample_std_dev = 20\n",
    "sample_size = 1000\n",
    "\n",
    "# Z-Test\n",
    "z_score = (sample_mean - claimed_mean) / (sample_std_dev / (sample_size ** 0.5))\n",
    "p_value = 2 * (1 - norm.cdf(abs(z_score)))\n",
    "\n",
    "print(\"\\nTask 7: One-Sample Z-Test for Weight\")\n",
    "print(f\"Z-Score: {z_score}\")\n",
    "print(f\"P-Value: {p_value}\")"
   ]
  }
 ],
 "metadata": {
  "kernelspec": {
   "display_name": "Python 3",
   "language": "python",
   "name": "python3"
  },
  "language_info": {
   "codemirror_mode": {
    "name": "ipython",
    "version": 3
   },
   "file_extension": ".py",
   "mimetype": "text/x-python",
   "name": "python",
   "nbconvert_exporter": "python",
   "pygments_lexer": "ipython3",
   "version": "3.12.6"
  }
 },
 "nbformat": 4,
 "nbformat_minor": 5
}
