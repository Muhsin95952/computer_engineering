{
 "cells": [
  {
   "cell_type": "markdown",
   "metadata": {},
   "source": [
    "### Task Description\n",
    "-   The objective of this notebook is to help you build a strong foundation in using NumPy, a powerful library in Python for numerical and matrix operations. This notebook is divided into four tasks:\n",
    "\n",
    "#### Task 1: Basic Array Operations\n",
    "-   Learn the basics of creating and manipulating 1D and 2D arrays, including reshaping, slicing, and performing basic statistical operations.\n",
    "\n",
    "#### Task 2: Element-wise Operations and Array Manipulations\n",
    "-  Practice element-wise operations like addition, subtraction, multiplication, and division on matrices. Additionally, explore matrix manipulation techniques like transposing and finding the dot product.\n",
    "\n",
    "#### Task 3: Filtering and Boolean Indexing\n",
    "-   Understand how to use Boolean indexing to filter out data and modify elements in an array based on certain conditions.\n",
    "\n",
    "#### Task 4: Linear Algebra Operations\n",
    "-   Explore NumPy’s capabilities in linear algebra by computing determinants, inverses, eigenvalues, and eigenvectors of a matrix.\n",
    "\n"
   ]
  },
  {
   "cell_type": "markdown",
   "metadata": {},
   "source": []
  },
  {
   "cell_type": "code",
   "execution_count": 1,
   "metadata": {},
   "outputs": [],
   "source": [
    "# Import necessary libraries\n",
    "import numpy as np"
   ]
  },
  {
   "cell_type": "markdown",
   "metadata": {},
   "source": []
  },
  {
   "cell_type": "markdown",
   "metadata": {},
   "source": [
    "### Task 1: Basics of NumPy Arrays and Simple Operations\n",
    "-   Objective: Learn the basics of NumPy arrays and simple operations.\n",
    "\n",
    "-   Step 1: Create a 1D NumPy array with numbers from 1 to 20"
   ]
  },
  {
   "cell_type": "markdown",
   "metadata": {},
   "source": []
  },
  {
   "cell_type": "code",
   "execution_count": 2,
   "metadata": {},
   "outputs": [
    {
     "name": "stdout",
     "output_type": "stream",
     "text": [
      "1D Array: [ 1  2  3  4  5  6  7  8  9 10 11 12 13 14 15 16 17 18 19 20]\n"
     ]
    }
   ],
   "source": [
    "array_1d = np.arange(1, 21)\n",
    "print(\"1D Array:\", array_1d)\n"
   ]
  },
  {
   "cell_type": "markdown",
   "metadata": {},
   "source": [
    "-   Step 2: Create a 2D array of shape (3, 5) with random integers between 10 and 50"
   ]
  },
  {
   "cell_type": "code",
   "execution_count": 3,
   "metadata": {},
   "outputs": [
    {
     "name": "stdout",
     "output_type": "stream",
     "text": [
      "2D Array:\n",
      " [[41 48 11 42 22]\n",
      " [21 23 32 49 13]\n",
      " [27 43 37 24 49]]\n"
     ]
    }
   ],
   "source": [
    "array_2d = np.random.randint(10, 50, size=(3, 5))\n",
    "print(\"2D Array:\\n\", array_2d)\n"
   ]
  },
  {
   "cell_type": "markdown",
   "metadata": {},
   "source": [
    "-   Step 3: Extract the first and third rows of the 2D array"
   ]
  },
  {
   "cell_type": "code",
   "execution_count": 4,
   "metadata": {},
   "outputs": [
    {
     "name": "stdout",
     "output_type": "stream",
     "text": [
      "First and Third Rows:\n",
      " [[41 48 11 42 22]\n",
      " [27 43 37 24 49]]\n"
     ]
    }
   ],
   "source": [
    "first_third_rows = array_2d[[0, 2], :]\n",
    "print(\"First and Third Rows:\\n\", first_third_rows)\n"
   ]
  },
  {
   "cell_type": "markdown",
   "metadata": {},
   "source": [
    "-    Step 4: Calculate the sum, mean, minimum, and maximum of the entire 2D array"
   ]
  },
  {
   "cell_type": "code",
   "execution_count": 5,
   "metadata": {},
   "outputs": [
    {
     "name": "stdout",
     "output_type": "stream",
     "text": [
      "Sum: 482, Mean: 32.13333333333333, Min: 11, Max: 49\n"
     ]
    }
   ],
   "source": [
    "array_sum = np.sum(array_2d)\n",
    "array_mean = np.mean(array_2d)\n",
    "array_min = np.min(array_2d)\n",
    "array_max = np.max(array_2d)\n",
    "print(f\"Sum: {array_sum}, Mean: {array_mean}, Min: {array_min}, Max: {array_max}\")\n"
   ]
  },
  {
   "cell_type": "markdown",
   "metadata": {},
   "source": [
    "-   Step 5: Reshape the 1D array into a 4x5 matrix"
   ]
  },
  {
   "cell_type": "code",
   "execution_count": 6,
   "metadata": {},
   "outputs": [
    {
     "name": "stdout",
     "output_type": "stream",
     "text": [
      "Reshaped 4x5 Matrix:\n",
      " [[ 1  2  3  4  5]\n",
      " [ 6  7  8  9 10]\n",
      " [11 12 13 14 15]\n",
      " [16 17 18 19 20]]\n"
     ]
    }
   ],
   "source": [
    "reshaped_array = array_1d.reshape(4, 5)\n",
    "print(\"Reshaped 4x5 Matrix:\\n\", reshaped_array)\n"
   ]
  },
  {
   "cell_type": "markdown",
   "metadata": {},
   "source": []
  },
  {
   "cell_type": "markdown",
   "metadata": {},
   "source": [
    "### Task 2: Element-wise Operations and Array Manipulations\n",
    "-   Objective: Practice element-wise operations and array manipulations.\n",
    "\n",
    "-   Step 1: Create two random 3x3 matrices"
   ]
  },
  {
   "cell_type": "code",
   "execution_count": 7,
   "metadata": {},
   "outputs": [
    {
     "name": "stdout",
     "output_type": "stream",
     "text": [
      "Matrix A:\n",
      " [[0.35566091 0.02733861 0.03929855]\n",
      " [0.8888192  0.58665037 0.5569696 ]\n",
      " [0.32713518 0.71594588 0.77518281]]\n",
      "Matrix B:\n",
      " [[0.32935471 0.04662031 0.74803333]\n",
      " [0.60361392 0.2673274  0.01977813]\n",
      " [0.46869094 0.24989115 0.5082403 ]]\n"
     ]
    }
   ],
   "source": [
    "matrix_a = np.random.rand(3, 3)\n",
    "matrix_b = np.random.rand(3, 3)\n",
    "print(\"Matrix A:\\n\", matrix_a)\n",
    "print(\"Matrix B:\\n\", matrix_b)\n"
   ]
  },
  {
   "cell_type": "markdown",
   "metadata": {},
   "source": [
    "-   Step 2: Perform element-wise operations on these matrices\n",
    "(a) Addition"
   ]
  },
  {
   "cell_type": "code",
   "execution_count": 8,
   "metadata": {},
   "outputs": [
    {
     "name": "stdout",
     "output_type": "stream",
     "text": [
      "Addition:\n",
      " [[0.68501562 0.07395892 0.78733188]\n",
      " [1.49243313 0.85397778 0.57674773]\n",
      " [0.79582612 0.96583704 1.28342311]]\n"
     ]
    }
   ],
   "source": [
    "addition = matrix_a + matrix_b\n",
    "print(\"Addition:\\n\", addition)\n"
   ]
  },
  {
   "cell_type": "markdown",
   "metadata": {},
   "source": [
    "-   (b) Subtraction"
   ]
  },
  {
   "cell_type": "code",
   "execution_count": 9,
   "metadata": {},
   "outputs": [
    {
     "name": "stdout",
     "output_type": "stream",
     "text": [
      "Subtraction:\n",
      " [[ 0.02630621 -0.0192817  -0.70873479]\n",
      " [ 0.28520528  0.31932297  0.53719147]\n",
      " [-0.14155576  0.46605473  0.26694251]]\n"
     ]
    }
   ],
   "source": [
    "subtraction = matrix_a - matrix_b\n",
    "print(\"Subtraction:\\n\", subtraction)\n"
   ]
  },
  {
   "cell_type": "markdown",
   "metadata": {},
   "source": []
  },
  {
   "cell_type": "markdown",
   "metadata": {},
   "source": []
  }
 ],
 "metadata": {
  "kernelspec": {
   "display_name": "Python 3",
   "language": "python",
   "name": "python3"
  },
  "language_info": {
   "codemirror_mode": {
    "name": "ipython",
    "version": 3
   },
   "file_extension": ".py",
   "mimetype": "text/x-python",
   "name": "python",
   "nbconvert_exporter": "python",
   "pygments_lexer": "ipython3",
   "version": "3.12.1"
  }
 },
 "nbformat": 4,
 "nbformat_minor": 2
}
