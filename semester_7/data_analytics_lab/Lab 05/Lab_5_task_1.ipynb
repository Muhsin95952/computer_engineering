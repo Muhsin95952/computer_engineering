{
 "cells": [
  {
   "cell_type": "markdown",
   "metadata": {},
   "source": [
    "### Importing necessary libraries\n"
   ]
  },
  {
   "cell_type": "code",
   "execution_count": 1,
   "metadata": {},
   "outputs": [],
   "source": [
    "import math\n",
    "from scipy.stats import binom, hypergeom, geom, poisson\n",
    "import numpy as np"
   ]
  },
  {
   "cell_type": "markdown",
   "metadata": {},
   "source": [
    "#### 1. Probability of an event given the number of favorable outcomes and total outcomes"
   ]
  },
  {
   "cell_type": "code",
   "execution_count": 2,
   "metadata": {},
   "outputs": [],
   "source": [
    "def probability(favorable_outcomes, total_outcomes):\n",
    "    return favorable_outcomes / total_outcomes"
   ]
  },
  {
   "cell_type": "markdown",
   "metadata": {},
   "source": [
    "##### Example"
   ]
  },
  {
   "cell_type": "code",
   "execution_count": 3,
   "metadata": {},
   "outputs": [
    {
     "name": "stdout",
     "output_type": "stream",
     "text": [
      "Probability of an event: 0.8888888888888888\n"
     ]
    }
   ],
   "source": [
    "print(\"Probability of an event:\", probability(8, 9))"
   ]
  },
  {
   "cell_type": "markdown",
   "metadata": {},
   "source": [
    "#### 2. Probability of two independent events occurring"
   ]
  },
  {
   "cell_type": "code",
   "execution_count": 4,
   "metadata": {},
   "outputs": [],
   "source": [
    "def independent_events_probability(p_a, p_b):\n",
    "    return p_a * p_b"
   ]
  },
  {
   "cell_type": "markdown",
   "metadata": {},
   "source": [
    "##### Example"
   ]
  },
  {
   "cell_type": "code",
   "execution_count": 5,
   "metadata": {},
   "outputs": [
    {
     "name": "stdout",
     "output_type": "stream",
     "text": [
      "Probability of two independent events: 0.2\n"
     ]
    }
   ],
   "source": [
    "print(\"Probability of two independent events:\", independent_events_probability(0.5, 0.4))"
   ]
  },
  {
   "cell_type": "markdown",
   "metadata": {},
   "source": [
    "#### 3. Conditional probability of event A given event B"
   ]
  },
  {
   "cell_type": "code",
   "execution_count": 6,
   "metadata": {},
   "outputs": [],
   "source": [
    "def conditional_probability(p_a_and_b, p_b):\n",
    "    return p_a_and_b / p_b"
   ]
  },
  {
   "cell_type": "markdown",
   "metadata": {},
   "source": [
    "##### Example"
   ]
  },
  {
   "cell_type": "code",
   "execution_count": 7,
   "metadata": {},
   "outputs": [
    {
     "name": "stdout",
     "output_type": "stream",
     "text": [
      "Conditional probability of A given B: 0.5\n"
     ]
    }
   ],
   "source": [
    "print(\"Conditional probability of A given B:\", conditional_probability(0.2, 0.4))"
   ]
  },
  {
   "cell_type": "markdown",
   "metadata": {},
   "source": [
    "#### 4. Total probability of an event A given events B1, B2, ..., Bn"
   ]
  },
  {
   "cell_type": "code",
   "execution_count": null,
   "metadata": {},
   "outputs": [],
   "source": [
    "def total_probability(probabilities_b, conditional_probabilities_a_given_b):\n",
    "    return sum(p_b * p_a_given_b\n",
    "                for p_b, p_a_given_b \n",
    "                in zip(probabilities_b, conditional_probabilities_a_given_b))\n"
   ]
  },
  {
   "cell_type": "markdown",
   "metadata": {},
   "source": [
    "##### Example"
   ]
  },
  {
   "cell_type": "code",
   "execution_count": null,
   "metadata": {},
   "outputs": [
    {
     "name": "stdout",
     "output_type": "stream",
     "text": [
      "Total probability of event A: 0.5599999999999999\n"
     ]
    }
   ],
   "source": [
    "probabilities_b = [0.3, 0.5, 0.2]\n",
    "conditional_probabilities_a_given_b = [0.8, 0.6, 0.1]\n",
    "print(\"Total probability of event A:\", \n",
    "      total_probability(probabilities_b, conditional_probabilities_a_given_b))"
   ]
  },
  {
   "cell_type": "markdown",
   "metadata": {},
   "source": [
    "#### 5. Binomial probability of getting exactly k successes in n trials"
   ]
  },
  {
   "cell_type": "code",
   "execution_count": 10,
   "metadata": {},
   "outputs": [],
   "source": [
    "def binomial_probability(n, k, p):\n",
    "    return binom.pmf(k, n, p)"
   ]
  },
  {
   "cell_type": "markdown",
   "metadata": {},
   "source": [
    "##### Example"
   ]
  },
  {
   "cell_type": "code",
   "execution_count": null,
   "metadata": {},
   "outputs": [
    {
     "name": "stdout",
     "output_type": "stream",
     "text": [
      "Binomial probability of 3 successes in 5 trials: 0.3124999999999998\n"
     ]
    }
   ],
   "source": [
    "print(\"Binomial probability of 3 successes in 5 trials:\",\n",
    "       binomial_probability(5, 3, 0.5))"
   ]
  },
  {
   "cell_type": "markdown",
   "metadata": {},
   "source": [
    "#### 6. Hypergeometric probability of drawing k successes in draws without replacement"
   ]
  },
  {
   "cell_type": "code",
   "execution_count": 12,
   "metadata": {},
   "outputs": [],
   "source": [
    "def hypergeometric_probability(N, K, n, k):\n",
    "    return hypergeom.pmf(k, N, K, n)"
   ]
  },
  {
   "cell_type": "markdown",
   "metadata": {},
   "source": [
    "##### Example"
   ]
  },
  {
   "cell_type": "code",
   "execution_count": null,
   "metadata": {},
   "outputs": [
    {
     "name": "stdout",
     "output_type": "stream",
     "text": [
      "Hypergeometric probability of 2 successes in 5 draws: 0.38738390092879255\n"
     ]
    }
   ],
   "source": [
    "print(\"Hypergeometric probability of 2 successes in 5 draws:\",\n",
    "       hypergeometric_probability(20, 7, 5, 2))"
   ]
  },
  {
   "cell_type": "markdown",
   "metadata": {},
   "source": [
    "#### 7. Geometric probability of the first success on the k-th trial"
   ]
  },
  {
   "cell_type": "code",
   "execution_count": 14,
   "metadata": {},
   "outputs": [],
   "source": [
    "def geometric_probability(k, p):\n",
    "    return geom.pmf(k, p)"
   ]
  },
  {
   "cell_type": "markdown",
   "metadata": {},
   "source": [
    "##### Example"
   ]
  },
  {
   "cell_type": "code",
   "execution_count": null,
   "metadata": {},
   "outputs": [
    {
     "name": "stdout",
     "output_type": "stream",
     "text": [
      "Geometric probability of first success on the 3rd trial: 0.125\n"
     ]
    }
   ],
   "source": [
    "print(\"Geometric probability of first success on the 3rd trial:\",\n",
    "       geometric_probability(3, 0.5))"
   ]
  },
  {
   "cell_type": "markdown",
   "metadata": {},
   "source": [
    "#### 8. Poisson probability of observing k events in a fixed interval with average rate λ"
   ]
  },
  {
   "cell_type": "code",
   "execution_count": 16,
   "metadata": {},
   "outputs": [],
   "source": [
    "def poisson_probability(k, lam):\n",
    "    return poisson.pmf(k, lam)"
   ]
  },
  {
   "cell_type": "markdown",
   "metadata": {},
   "source": [
    "##### Example"
   ]
  },
  {
   "cell_type": "code",
   "execution_count": null,
   "metadata": {},
   "outputs": [
    {
     "name": "stdout",
     "output_type": "stream",
     "text": [
      "Poisson probability of observing 3 events: 0.21376301724973648\n"
     ]
    }
   ],
   "source": [
    "print(\"Poisson probability of observing 3 events:\",\n",
    "       poisson_probability(3, 2.5))"
   ]
  }
 ],
 "metadata": {
  "kernelspec": {
   "display_name": "Python 3",
   "language": "python",
   "name": "python3"
  },
  "language_info": {
   "codemirror_mode": {
    "name": "ipython",
    "version": 3
   },
   "file_extension": ".py",
   "mimetype": "text/x-python",
   "name": "python",
   "nbconvert_exporter": "python",
   "pygments_lexer": "ipython3",
   "version": "3.12.1"
  }
 },
 "nbformat": 4,
 "nbformat_minor": 2
}
