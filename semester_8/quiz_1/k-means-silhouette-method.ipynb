{
 "cells": [
  {
   "cell_type": "markdown",
   "metadata": {
    "papermill": {
     "duration": 0.020936,
     "end_time": "2022-11-05T07:04:24.516718",
     "exception": false,
     "start_time": "2022-11-05T07:04:24.495782",
     "status": "completed"
    },
    "tags": []
   },
   "source": [
    "### select a dataset from Kaggle. The objective is to perform clustering on the dataset and evaluate the results using the Silhouette Coefficient. Apply the K-Means algorithm to group the data and ensure you provide an analysis explaining why the data is being divided into specific groups.?"
   ]
  },
  {
   "cell_type": "markdown",
   "metadata": {
    "papermill": {
     "duration": 0.018507,
     "end_time": "2022-11-05T07:04:24.555878",
     "exception": false,
     "start_time": "2022-11-05T07:04:24.537371",
     "status": "completed"
    },
    "tags": []
   },
   "source": [
    "# Import Libraries"
   ]
  },
  {
   "cell_type": "code",
   "execution_count": 1,
   "metadata": {
    "_cell_guid": "b1076dfc-b9ad-4769-8c92-a6c4dae69d19",
    "_uuid": "8f2839f25d086af736a60e9eeb907d3b93b6e0e5",
    "execution": {
     "iopub.execute_input": "2022-11-05T06:41:57.445407Z",
     "iopub.status.busy": "2022-11-05T06:41:57.444748Z",
     "iopub.status.idle": "2022-11-05T06:41:58.491917Z",
     "shell.execute_reply": "2022-11-05T06:41:58.490978Z",
     "shell.execute_reply.started": "2022-11-05T06:41:57.445342Z"
    },
    "papermill": {
     "duration": 1.215864,
     "end_time": "2022-11-05T07:04:25.790804",
     "exception": false,
     "start_time": "2022-11-05T07:04:24.574940",
     "status": "completed"
    },
    "tags": []
   },
   "outputs": [],
   "source": [
    "import pandas as pd\n",
    "import numpy as np\n",
    "import seaborn as sns\n",
    "import matplotlib.pyplot as plt\n",
    "%matplotlib inline"
   ]
  },
  {
   "cell_type": "markdown",
   "metadata": {
    "papermill": {
     "duration": 0.018963,
     "end_time": "2022-11-05T07:04:25.830008",
     "exception": false,
     "start_time": "2022-11-05T07:04:25.811045",
     "status": "completed"
    },
    "tags": []
   },
   "source": [
    "# Import Data & Rename Columns"
   ]
  },
  {
   "cell_type": "code",
   "execution_count": 2,
   "metadata": {
    "execution": {
     "iopub.execute_input": "2022-11-05T06:41:58.508082Z",
     "iopub.status.busy": "2022-11-05T06:41:58.507567Z",
     "iopub.status.idle": "2022-11-05T06:41:58.542360Z",
     "shell.execute_reply": "2022-11-05T06:41:58.541456Z",
     "shell.execute_reply.started": "2022-11-05T06:41:58.508015Z"
    },
    "papermill": {
     "duration": 0.059101,
     "end_time": "2022-11-05T07:04:25.970859",
     "exception": false,
     "start_time": "2022-11-05T07:04:25.911758",
     "status": "completed"
    },
    "tags": []
   },
   "outputs": [
    {
     "data": {
      "text/html": [
       "<div>\n",
       "<style scoped>\n",
       "    .dataframe tbody tr th:only-of-type {\n",
       "        vertical-align: middle;\n",
       "    }\n",
       "\n",
       "    .dataframe tbody tr th {\n",
       "        vertical-align: top;\n",
       "    }\n",
       "\n",
       "    .dataframe thead th {\n",
       "        text-align: right;\n",
       "    }\n",
       "</style>\n",
       "<table border=\"1\" class=\"dataframe\">\n",
       "  <thead>\n",
       "    <tr style=\"text-align: right;\">\n",
       "      <th></th>\n",
       "      <th>CustomerID</th>\n",
       "      <th>Gender</th>\n",
       "      <th>Age</th>\n",
       "      <th>Annual Income (k$)</th>\n",
       "      <th>Spending Score (1-100)</th>\n",
       "    </tr>\n",
       "  </thead>\n",
       "  <tbody>\n",
       "    <tr>\n",
       "      <th>0</th>\n",
       "      <td>1</td>\n",
       "      <td>Male</td>\n",
       "      <td>19</td>\n",
       "      <td>15</td>\n",
       "      <td>39</td>\n",
       "    </tr>\n",
       "    <tr>\n",
       "      <th>1</th>\n",
       "      <td>2</td>\n",
       "      <td>Male</td>\n",
       "      <td>21</td>\n",
       "      <td>15</td>\n",
       "      <td>81</td>\n",
       "    </tr>\n",
       "    <tr>\n",
       "      <th>2</th>\n",
       "      <td>3</td>\n",
       "      <td>Female</td>\n",
       "      <td>20</td>\n",
       "      <td>16</td>\n",
       "      <td>6</td>\n",
       "    </tr>\n",
       "    <tr>\n",
       "      <th>3</th>\n",
       "      <td>4</td>\n",
       "      <td>Female</td>\n",
       "      <td>23</td>\n",
       "      <td>16</td>\n",
       "      <td>77</td>\n",
       "    </tr>\n",
       "    <tr>\n",
       "      <th>4</th>\n",
       "      <td>5</td>\n",
       "      <td>Female</td>\n",
       "      <td>31</td>\n",
       "      <td>17</td>\n",
       "      <td>40</td>\n",
       "    </tr>\n",
       "    <tr>\n",
       "      <th>5</th>\n",
       "      <td>6</td>\n",
       "      <td>Female</td>\n",
       "      <td>22</td>\n",
       "      <td>17</td>\n",
       "      <td>76</td>\n",
       "    </tr>\n",
       "    <tr>\n",
       "      <th>6</th>\n",
       "      <td>7</td>\n",
       "      <td>Female</td>\n",
       "      <td>35</td>\n",
       "      <td>18</td>\n",
       "      <td>6</td>\n",
       "    </tr>\n",
       "    <tr>\n",
       "      <th>7</th>\n",
       "      <td>8</td>\n",
       "      <td>Female</td>\n",
       "      <td>23</td>\n",
       "      <td>18</td>\n",
       "      <td>94</td>\n",
       "    </tr>\n",
       "    <tr>\n",
       "      <th>8</th>\n",
       "      <td>9</td>\n",
       "      <td>Male</td>\n",
       "      <td>64</td>\n",
       "      <td>19</td>\n",
       "      <td>3</td>\n",
       "    </tr>\n",
       "    <tr>\n",
       "      <th>9</th>\n",
       "      <td>10</td>\n",
       "      <td>Female</td>\n",
       "      <td>30</td>\n",
       "      <td>19</td>\n",
       "      <td>72</td>\n",
       "    </tr>\n",
       "  </tbody>\n",
       "</table>\n",
       "</div>"
      ],
      "text/plain": [
       "   CustomerID  Gender  Age  Annual Income (k$)  Spending Score (1-100)\n",
       "0           1    Male   19                  15                      39\n",
       "1           2    Male   21                  15                      81\n",
       "2           3  Female   20                  16                       6\n",
       "3           4  Female   23                  16                      77\n",
       "4           5  Female   31                  17                      40\n",
       "5           6  Female   22                  17                      76\n",
       "6           7  Female   35                  18                       6\n",
       "7           8  Female   23                  18                      94\n",
       "8           9    Male   64                  19                       3\n",
       "9          10  Female   30                  19                      72"
      ]
     },
     "execution_count": 2,
     "metadata": {},
     "output_type": "execute_result"
    }
   ],
   "source": [
    "df = pd.read_csv('Mall_Customers.csv')\n",
    "df.head(10)"
   ]
  },
  {
   "cell_type": "code",
   "execution_count": 3,
   "metadata": {
    "execution": {
     "iopub.execute_input": "2022-11-05T06:41:58.543983Z",
     "iopub.status.busy": "2022-11-05T06:41:58.543610Z",
     "iopub.status.idle": "2022-11-05T06:41:58.560882Z",
     "shell.execute_reply": "2022-11-05T06:41:58.559823Z",
     "shell.execute_reply.started": "2022-11-05T06:41:58.543922Z"
    },
    "papermill": {
     "duration": 0.046994,
     "end_time": "2022-11-05T07:04:26.039154",
     "exception": false,
     "start_time": "2022-11-05T07:04:25.992160",
     "status": "completed"
    },
    "tags": []
   },
   "outputs": [
    {
     "data": {
      "text/html": [
       "<div>\n",
       "<style scoped>\n",
       "    .dataframe tbody tr th:only-of-type {\n",
       "        vertical-align: middle;\n",
       "    }\n",
       "\n",
       "    .dataframe tbody tr th {\n",
       "        vertical-align: top;\n",
       "    }\n",
       "\n",
       "    .dataframe thead th {\n",
       "        text-align: right;\n",
       "    }\n",
       "</style>\n",
       "<table border=\"1\" class=\"dataframe\">\n",
       "  <thead>\n",
       "    <tr style=\"text-align: right;\">\n",
       "      <th></th>\n",
       "      <th>CustomerID</th>\n",
       "      <th>Gender</th>\n",
       "      <th>Age</th>\n",
       "      <th>Income</th>\n",
       "      <th>Spending_Score</th>\n",
       "    </tr>\n",
       "  </thead>\n",
       "  <tbody>\n",
       "    <tr>\n",
       "      <th>0</th>\n",
       "      <td>1</td>\n",
       "      <td>Male</td>\n",
       "      <td>19</td>\n",
       "      <td>15</td>\n",
       "      <td>39</td>\n",
       "    </tr>\n",
       "    <tr>\n",
       "      <th>1</th>\n",
       "      <td>2</td>\n",
       "      <td>Male</td>\n",
       "      <td>21</td>\n",
       "      <td>15</td>\n",
       "      <td>81</td>\n",
       "    </tr>\n",
       "    <tr>\n",
       "      <th>2</th>\n",
       "      <td>3</td>\n",
       "      <td>Female</td>\n",
       "      <td>20</td>\n",
       "      <td>16</td>\n",
       "      <td>6</td>\n",
       "    </tr>\n",
       "    <tr>\n",
       "      <th>3</th>\n",
       "      <td>4</td>\n",
       "      <td>Female</td>\n",
       "      <td>23</td>\n",
       "      <td>16</td>\n",
       "      <td>77</td>\n",
       "    </tr>\n",
       "    <tr>\n",
       "      <th>4</th>\n",
       "      <td>5</td>\n",
       "      <td>Female</td>\n",
       "      <td>31</td>\n",
       "      <td>17</td>\n",
       "      <td>40</td>\n",
       "    </tr>\n",
       "    <tr>\n",
       "      <th>5</th>\n",
       "      <td>6</td>\n",
       "      <td>Female</td>\n",
       "      <td>22</td>\n",
       "      <td>17</td>\n",
       "      <td>76</td>\n",
       "    </tr>\n",
       "    <tr>\n",
       "      <th>6</th>\n",
       "      <td>7</td>\n",
       "      <td>Female</td>\n",
       "      <td>35</td>\n",
       "      <td>18</td>\n",
       "      <td>6</td>\n",
       "    </tr>\n",
       "    <tr>\n",
       "      <th>7</th>\n",
       "      <td>8</td>\n",
       "      <td>Female</td>\n",
       "      <td>23</td>\n",
       "      <td>18</td>\n",
       "      <td>94</td>\n",
       "    </tr>\n",
       "    <tr>\n",
       "      <th>8</th>\n",
       "      <td>9</td>\n",
       "      <td>Male</td>\n",
       "      <td>64</td>\n",
       "      <td>19</td>\n",
       "      <td>3</td>\n",
       "    </tr>\n",
       "    <tr>\n",
       "      <th>9</th>\n",
       "      <td>10</td>\n",
       "      <td>Female</td>\n",
       "      <td>30</td>\n",
       "      <td>19</td>\n",
       "      <td>72</td>\n",
       "    </tr>\n",
       "  </tbody>\n",
       "</table>\n",
       "</div>"
      ],
      "text/plain": [
       "   CustomerID  Gender  Age  Income  Spending_Score\n",
       "0           1    Male   19      15              39\n",
       "1           2    Male   21      15              81\n",
       "2           3  Female   20      16               6\n",
       "3           4  Female   23      16              77\n",
       "4           5  Female   31      17              40\n",
       "5           6  Female   22      17              76\n",
       "6           7  Female   35      18               6\n",
       "7           8  Female   23      18              94\n",
       "8           9    Male   64      19               3\n",
       "9          10  Female   30      19              72"
      ]
     },
     "execution_count": 3,
     "metadata": {},
     "output_type": "execute_result"
    }
   ],
   "source": [
    "df.rename(columns={'Annual Income (k$)' : 'Income', 'Spending Score (1-100)' : 'Spending_Score'}, inplace = True)\n",
    "df.head(10)"
   ]
  },
  {
   "cell_type": "code",
   "execution_count": 4,
   "metadata": {
    "execution": {
     "iopub.execute_input": "2022-11-05T06:41:58.563524Z",
     "iopub.status.busy": "2022-11-05T06:41:58.563077Z",
     "iopub.status.idle": "2022-11-05T06:41:58.578760Z",
     "shell.execute_reply": "2022-11-05T06:41:58.577871Z",
     "shell.execute_reply.started": "2022-11-05T06:41:58.563480Z"
    },
    "papermill": {
     "duration": 0.050148,
     "end_time": "2022-11-05T07:04:26.114167",
     "exception": false,
     "start_time": "2022-11-05T07:04:26.064019",
     "status": "completed"
    },
    "tags": []
   },
   "outputs": [
    {
     "data": {
      "text/html": [
       "<div>\n",
       "<style scoped>\n",
       "    .dataframe tbody tr th:only-of-type {\n",
       "        vertical-align: middle;\n",
       "    }\n",
       "\n",
       "    .dataframe tbody tr th {\n",
       "        vertical-align: top;\n",
       "    }\n",
       "\n",
       "    .dataframe thead th {\n",
       "        text-align: right;\n",
       "    }\n",
       "</style>\n",
       "<table border=\"1\" class=\"dataframe\">\n",
       "  <thead>\n",
       "    <tr style=\"text-align: right;\">\n",
       "      <th></th>\n",
       "      <th>Income</th>\n",
       "      <th>Spending_Score</th>\n",
       "    </tr>\n",
       "  </thead>\n",
       "  <tbody>\n",
       "    <tr>\n",
       "      <th>0</th>\n",
       "      <td>15</td>\n",
       "      <td>39</td>\n",
       "    </tr>\n",
       "    <tr>\n",
       "      <th>1</th>\n",
       "      <td>15</td>\n",
       "      <td>81</td>\n",
       "    </tr>\n",
       "    <tr>\n",
       "      <th>2</th>\n",
       "      <td>16</td>\n",
       "      <td>6</td>\n",
       "    </tr>\n",
       "    <tr>\n",
       "      <th>3</th>\n",
       "      <td>16</td>\n",
       "      <td>77</td>\n",
       "    </tr>\n",
       "    <tr>\n",
       "      <th>4</th>\n",
       "      <td>17</td>\n",
       "      <td>40</td>\n",
       "    </tr>\n",
       "    <tr>\n",
       "      <th>5</th>\n",
       "      <td>17</td>\n",
       "      <td>76</td>\n",
       "    </tr>\n",
       "    <tr>\n",
       "      <th>6</th>\n",
       "      <td>18</td>\n",
       "      <td>6</td>\n",
       "    </tr>\n",
       "    <tr>\n",
       "      <th>7</th>\n",
       "      <td>18</td>\n",
       "      <td>94</td>\n",
       "    </tr>\n",
       "    <tr>\n",
       "      <th>8</th>\n",
       "      <td>19</td>\n",
       "      <td>3</td>\n",
       "    </tr>\n",
       "    <tr>\n",
       "      <th>9</th>\n",
       "      <td>19</td>\n",
       "      <td>72</td>\n",
       "    </tr>\n",
       "  </tbody>\n",
       "</table>\n",
       "</div>"
      ],
      "text/plain": [
       "   Income  Spending_Score\n",
       "0      15              39\n",
       "1      15              81\n",
       "2      16               6\n",
       "3      16              77\n",
       "4      17              40\n",
       "5      17              76\n",
       "6      18               6\n",
       "7      18              94\n",
       "8      19               3\n",
       "9      19              72"
      ]
     },
     "execution_count": 4,
     "metadata": {},
     "output_type": "execute_result"
    }
   ],
   "source": [
    "df_Short = df[['Income','Spending_Score']]\n",
    "df_Short.head(10)"
   ]
  },
  {
   "cell_type": "markdown",
   "metadata": {
    "papermill": {
     "duration": 0.02075,
     "end_time": "2022-11-05T07:04:27.658064",
     "exception": false,
     "start_time": "2022-11-05T07:04:27.637314",
     "status": "completed"
    },
    "tags": []
   },
   "source": [
    "# Silhouette Method to Indentify Clusters"
   ]
  },
  {
   "cell_type": "code",
   "execution_count": 5,
   "metadata": {
    "execution": {
     "iopub.execute_input": "2022-11-05T06:41:59.667179Z",
     "iopub.status.busy": "2022-11-05T06:41:59.666588Z",
     "iopub.status.idle": "2022-11-05T06:41:59.671633Z",
     "shell.execute_reply": "2022-11-05T06:41:59.670742Z",
     "shell.execute_reply.started": "2022-11-05T06:41:59.667127Z"
    },
    "papermill": {
     "duration": 0.029244,
     "end_time": "2022-11-05T07:04:27.708096",
     "exception": false,
     "start_time": "2022-11-05T07:04:27.678852",
     "status": "completed"
    },
    "tags": []
   },
   "outputs": [
    {
     "ename": "ModuleNotFoundError",
     "evalue": "No module named 'sklearn'",
     "output_type": "error",
     "traceback": [
      "\u001b[31m---------------------------------------------------------------------------\u001b[39m",
      "\u001b[31mModuleNotFoundError\u001b[39m                       Traceback (most recent call last)",
      "\u001b[36mCell\u001b[39m\u001b[36m \u001b[39m\u001b[32mIn[5]\u001b[39m\u001b[32m, line 1\u001b[39m\n\u001b[32m----> \u001b[39m\u001b[32m1\u001b[39m \u001b[38;5;28;01mimport\u001b[39;00m\u001b[38;5;250m \u001b[39m\u001b[34;01msklearn\u001b[39;00m\u001b[34;01m.\u001b[39;00m\u001b[34;01mmetrics\u001b[39;00m\u001b[38;5;250m \u001b[39m\u001b[38;5;28;01mas\u001b[39;00m\u001b[38;5;250m \u001b[39m\u001b[34;01mmetrics\u001b[39;00m\n",
      "\u001b[31mModuleNotFoundError\u001b[39m: No module named 'sklearn'"
     ]
    }
   ],
   "source": [
    "import sklearn.metrics as metrics"
   ]
  },
  {
   "cell_type": "code",
   "execution_count": 10,
   "metadata": {},
   "outputs": [],
   "source": [
    "import sklearn.cluster as cluster"
   ]
  },
  {
   "cell_type": "code",
   "execution_count": 11,
   "metadata": {
    "execution": {
     "iopub.execute_input": "2022-11-05T07:01:49.873978Z",
     "iopub.status.busy": "2022-11-05T07:01:49.873611Z",
     "iopub.status.idle": "2022-11-05T07:01:50.551331Z",
     "shell.execute_reply": "2022-11-05T07:01:50.550369Z",
     "shell.execute_reply.started": "2022-11-05T07:01:49.873936Z"
    },
    "papermill": {
     "duration": 0.757937,
     "end_time": "2022-11-05T07:04:28.488972",
     "exception": false,
     "start_time": "2022-11-05T07:04:27.731035",
     "status": "completed"
    },
    "tags": []
   },
   "outputs": [
    {
     "name": "stdout",
     "output_type": "stream",
     "text": [
      "Silhouette score for k(clusters) = 3 is 0.46761358158775423\n",
      "Silhouette score for k(clusters) = 4 is 0.4931963109249047\n",
      "Silhouette score for k(clusters) = 5 is 0.553931997444648\n",
      "Silhouette score for k(clusters) = 6 is 0.53976103063432\n",
      "Silhouette score for k(clusters) = 7 is 0.5321706886465517\n",
      "Silhouette score for k(clusters) = 8 is 0.4573261175268683\n",
      "Silhouette score for k(clusters) = 9 is 0.4565077334305075\n",
      "Silhouette score for k(clusters) = 10 is 0.4524923791729668\n",
      "Silhouette score for k(clusters) = 11 is 0.432531674502324\n",
      "Silhouette score for k(clusters) = 12 is 0.4254858960373971\n"
     ]
    }
   ],
   "source": [
    "SK = range(3,13)\n",
    "sil_score = []\n",
    "for i in SK:\n",
    "    labels=cluster.KMeans(n_clusters=i,init=\"k-means++\",random_state=200, n_init=10).fit(df_Short).labels_\n",
    "    score = metrics.silhouette_score(df_Short,labels,metric=\"euclidean\",sample_size=1000,random_state=200)\n",
    "    sil_score.append(score)\n",
    "    print (\"Silhouette score for k(clusters) = \"+str(i)+\" is \"\n",
    "           +str(metrics.silhouette_score(df_Short,labels,metric=\"euclidean\",sample_size=1000,random_state=200)))"
   ]
  },
  {
   "cell_type": "code",
   "execution_count": 12,
   "metadata": {
    "execution": {
     "iopub.execute_input": "2022-11-05T07:02:29.766278Z",
     "iopub.status.busy": "2022-11-05T07:02:29.765890Z",
     "iopub.status.idle": "2022-11-05T07:02:29.778622Z",
     "shell.execute_reply": "2022-11-05T07:02:29.777416Z",
     "shell.execute_reply.started": "2022-11-05T07:02:29.766227Z"
    },
    "papermill": {
     "duration": 0.048354,
     "end_time": "2022-11-05T07:04:28.566910",
     "exception": false,
     "start_time": "2022-11-05T07:04:28.518556",
     "status": "completed"
    },
    "tags": []
   },
   "outputs": [
    {
     "data": {
      "text/html": [
       "<div>\n",
       "<style scoped>\n",
       "    .dataframe tbody tr th:only-of-type {\n",
       "        vertical-align: middle;\n",
       "    }\n",
       "\n",
       "    .dataframe tbody tr th {\n",
       "        vertical-align: top;\n",
       "    }\n",
       "\n",
       "    .dataframe thead th {\n",
       "        text-align: right;\n",
       "    }\n",
       "</style>\n",
       "<table border=\"1\" class=\"dataframe\">\n",
       "  <thead>\n",
       "    <tr style=\"text-align: right;\">\n",
       "      <th></th>\n",
       "      <th>Clusters</th>\n",
       "      <th>Sil Score</th>\n",
       "    </tr>\n",
       "  </thead>\n",
       "  <tbody>\n",
       "    <tr>\n",
       "      <th>0</th>\n",
       "      <td>3</td>\n",
       "      <td>0.467614</td>\n",
       "    </tr>\n",
       "    <tr>\n",
       "      <th>1</th>\n",
       "      <td>4</td>\n",
       "      <td>0.493196</td>\n",
       "    </tr>\n",
       "    <tr>\n",
       "      <th>2</th>\n",
       "      <td>5</td>\n",
       "      <td>0.553932</td>\n",
       "    </tr>\n",
       "    <tr>\n",
       "      <th>3</th>\n",
       "      <td>6</td>\n",
       "      <td>0.539761</td>\n",
       "    </tr>\n",
       "    <tr>\n",
       "      <th>4</th>\n",
       "      <td>7</td>\n",
       "      <td>0.532171</td>\n",
       "    </tr>\n",
       "    <tr>\n",
       "      <th>5</th>\n",
       "      <td>8</td>\n",
       "      <td>0.457326</td>\n",
       "    </tr>\n",
       "    <tr>\n",
       "      <th>6</th>\n",
       "      <td>9</td>\n",
       "      <td>0.456508</td>\n",
       "    </tr>\n",
       "    <tr>\n",
       "      <th>7</th>\n",
       "      <td>10</td>\n",
       "      <td>0.452492</td>\n",
       "    </tr>\n",
       "    <tr>\n",
       "      <th>8</th>\n",
       "      <td>11</td>\n",
       "      <td>0.432532</td>\n",
       "    </tr>\n",
       "    <tr>\n",
       "      <th>9</th>\n",
       "      <td>12</td>\n",
       "      <td>0.425486</td>\n",
       "    </tr>\n",
       "  </tbody>\n",
       "</table>\n",
       "</div>"
      ],
      "text/plain": [
       "   Clusters  Sil Score\n",
       "0         3   0.467614\n",
       "1         4   0.493196\n",
       "2         5   0.553932\n",
       "3         6   0.539761\n",
       "4         7   0.532171\n",
       "5         8   0.457326\n",
       "6         9   0.456508\n",
       "7        10   0.452492\n",
       "8        11   0.432532\n",
       "9        12   0.425486"
      ]
     },
     "execution_count": 12,
     "metadata": {},
     "output_type": "execute_result"
    }
   ],
   "source": [
    "sil_centers = pd.DataFrame({'Clusters' : SK, 'Sil Score' : sil_score})\n",
    "sil_centers"
   ]
  },
  {
   "cell_type": "code",
   "execution_count": 13,
   "metadata": {
    "execution": {
     "iopub.execute_input": "2022-11-05T07:02:50.378801Z",
     "iopub.status.busy": "2022-11-05T07:02:50.378244Z",
     "iopub.status.idle": "2022-11-05T07:02:50.565626Z",
     "shell.execute_reply": "2022-11-05T07:02:50.564658Z",
     "shell.execute_reply.started": "2022-11-05T07:02:50.378738Z"
    },
    "papermill": {
     "duration": 0.227737,
     "end_time": "2022-11-05T07:04:28.825123",
     "exception": false,
     "start_time": "2022-11-05T07:04:28.597386",
     "status": "completed"
    },
    "tags": []
   },
   "outputs": [
    {
     "data": {
      "text/plain": [
       "<Axes: xlabel='Clusters', ylabel='Sil Score'>"
      ]
     },
     "execution_count": 13,
     "metadata": {},
     "output_type": "execute_result"
    },
    {
     "data": {
      "image/png": "[encoded data removed]",
      "text/plain": [
       "<Figure size 640x480 with 1 Axes>"
      ]
     },
     "metadata": {},
     "output_type": "display_data"
    }
   ],
   "source": [
    "sns.lineplot(x = 'Clusters', y = 'Sil Score', data = sil_centers, marker=\"+\")"
   ]
  },
  {
   "cell_type": "markdown",
   "metadata": {
    "papermill": {
     "duration": 0.02422,
     "end_time": "2022-11-05T07:04:28.874210",
     "exception": false,
     "start_time": "2022-11-05T07:04:28.849990",
     "status": "completed"
    },
    "tags": []
   },
   "source": [
    "## -- Max Silhouette Score as k = 5, Hence 5 Clusters is the right option"
   ]
  },
  {
   "cell_type": "markdown",
   "metadata": {
    "papermill": {
     "duration": 0.023881,
     "end_time": "2022-11-05T07:04:28.922910",
     "exception": false,
     "start_time": "2022-11-05T07:04:28.899029",
     "status": "completed"
    },
    "tags": []
   },
   "source": [
    "# Perform K-Mean Clustering with 5 Clusters"
   ]
  },
  {
   "cell_type": "code",
   "execution_count": 14,
   "metadata": {
    "execution": {
     "iopub.execute_input": "2022-11-05T06:58:29.825373Z",
     "iopub.status.busy": "2022-11-05T06:58:29.824970Z",
     "iopub.status.idle": "2022-11-05T06:58:29.873750Z",
     "shell.execute_reply": "2022-11-05T06:58:29.872659Z",
     "shell.execute_reply.started": "2022-11-05T06:58:29.825297Z"
    },
    "papermill": {
     "duration": 0.068663,
     "end_time": "2022-11-05T07:04:29.015602",
     "exception": false,
     "start_time": "2022-11-05T07:04:28.946939",
     "status": "completed"
    },
    "tags": []
   },
   "outputs": [],
   "source": [
    "# We will use 2 Variables for this example\n",
    "kmeans = cluster.KMeans(n_clusters=5 ,init=\"k-means++\" , n_init=10)\n",
    "kmeans = kmeans.fit(df[['Spending_Score','Income']])"
   ]
  },
  {
   "cell_type": "markdown",
   "metadata": {
    "papermill": {
     "duration": 0.023346,
     "end_time": "2022-11-05T07:04:29.063016",
     "exception": false,
     "start_time": "2022-11-05T07:04:29.039670",
     "status": "completed"
    },
    "tags": []
   },
   "source": [
    "# Plot Clusters on Chart"
   ]
  },
  {
   "cell_type": "code",
   "execution_count": 15,
   "metadata": {
    "execution": {
     "iopub.execute_input": "2022-11-05T06:58:31.125117Z",
     "iopub.status.busy": "2022-11-05T06:58:31.124745Z",
     "iopub.status.idle": "2022-11-05T06:58:31.130653Z",
     "shell.execute_reply": "2022-11-05T06:58:31.129485Z",
     "shell.execute_reply.started": "2022-11-05T06:58:31.125068Z"
    },
    "papermill": {
     "duration": 0.033188,
     "end_time": "2022-11-05T07:04:29.120204",
     "exception": false,
     "start_time": "2022-11-05T07:04:29.087016",
     "status": "completed"
    },
    "tags": []
   },
   "outputs": [],
   "source": [
    "df['Clusters'] = kmeans.labels_\n"
   ]
  },
  {
   "cell_type": "code",
   "execution_count": 16,
   "metadata": {
    "execution": {
     "iopub.execute_input": "2022-11-05T06:58:32.890709Z",
     "iopub.status.busy": "2022-11-05T06:58:32.890237Z",
     "iopub.status.idle": "2022-11-05T06:58:32.899419Z",
     "shell.execute_reply": "2022-11-05T06:58:32.897940Z",
     "shell.execute_reply.started": "2022-11-05T06:58:32.890645Z"
    },
    "papermill": {
     "duration": 0.034837,
     "end_time": "2022-11-05T07:04:29.179010",
     "exception": false,
     "start_time": "2022-11-05T07:04:29.144173",
     "status": "completed"
    },
    "tags": []
   },
   "outputs": [
    {
     "data": {
      "text/plain": [
       "array([2, 4, 2, 4, 2, 4, 2, 4, 2, 4, 2, 4, 2, 4, 2, 4, 2, 4, 2, 4, 2, 4,\n",
       "       2, 4, 2, 4, 2, 4, 2, 4, 2, 4, 2, 4, 2, 4, 2, 4, 2, 4, 2, 4, 2, 0,\n",
       "       2, 4, 0, 0, 0, 0, 0, 0, 0, 0, 0, 0, 0, 0, 0, 0, 0, 0, 0, 0, 0, 0,\n",
       "       0, 0, 0, 0, 0, 0, 0, 0, 0, 0, 0, 0, 0, 0, 0, 0, 0, 0, 0, 0, 0, 0,\n",
       "       0, 0, 0, 0, 0, 0, 0, 0, 0, 0, 0, 0, 0, 0, 0, 0, 0, 0, 0, 0, 0, 0,\n",
       "       0, 0, 0, 0, 0, 0, 0, 0, 0, 0, 0, 0, 0, 3, 1, 3, 0, 3, 1, 3, 1, 3,\n",
       "       0, 3, 1, 3, 1, 3, 1, 3, 1, 3, 0, 3, 1, 3, 1, 3, 1, 3, 1, 3, 1, 3,\n",
       "       1, 3, 1, 3, 1, 3, 1, 3, 1, 3, 1, 3, 1, 3, 1, 3, 1, 3, 1, 3, 1, 3,\n",
       "       1, 3, 1, 3, 1, 3, 1, 3, 1, 3, 1, 3, 1, 3, 1, 3, 1, 3, 1, 3, 1, 3,\n",
       "       1, 3])"
      ]
     },
     "execution_count": 16,
     "metadata": {},
     "output_type": "execute_result"
    }
   ],
   "source": [
    "kmeans.labels_"
   ]
  },
  {
   "cell_type": "code",
   "execution_count": 17,
   "metadata": {
    "execution": {
     "iopub.execute_input": "2022-11-05T06:58:34.619164Z",
     "iopub.status.busy": "2022-11-05T06:58:34.618774Z",
     "iopub.status.idle": "2022-11-05T06:58:34.914323Z",
     "shell.execute_reply": "2022-11-05T06:58:34.913250Z",
     "shell.execute_reply.started": "2022-11-05T06:58:34.619114Z"
    },
    "papermill": {
     "duration": 0.370489,
     "end_time": "2022-11-05T07:04:29.573471",
     "exception": false,
     "start_time": "2022-11-05T07:04:29.202982",
     "status": "completed"
    },
    "tags": []
   },
   "outputs": [
    {
     "data": {
      "text/plain": [
       "<Axes: xlabel='Spending_Score', ylabel='Income'>"
      ]
     },
     "execution_count": 17,
     "metadata": {},
     "output_type": "execute_result"
    },
    {
     "data": {
      "image/png": "[encoded data removed]",
      "text/plain": [
       "<Figure size 640x480 with 1 Axes>"
      ]
     },
     "metadata": {},
     "output_type": "display_data"
    }
   ],
   "source": [
    "sns.scatterplot(x=\"Spending_Score\", y=\"Income\",hue = 'Clusters',  data=df)"
   ]
  },
  {
   "cell_type": "markdown",
   "metadata": {
    "papermill": {
     "duration": 0.028309,
     "end_time": "2022-11-05T07:04:29.630732",
     "exception": false,
     "start_time": "2022-11-05T07:04:29.602423",
     "status": "completed"
    },
    "tags": []
   },
   "source": [
    "# END"
   ]
  }
 ],
 "metadata": {
  "kernelspec": {
   "display_name": "Python 3",
   "language": "python",
   "name": "python3"
  },
  "language_info": {
   "codemirror_mode": {
    "name": "ipython",
    "version": 3
   },
   "file_extension": ".py",
   "mimetype": "text/x-python",
   "name": "python",
   "nbconvert_exporter": "python",
   "pygments_lexer": "ipython3",
   "version": "3.13.2"
  },
  "papermill": {
   "duration": 11.132209,
   "end_time": "2022-11-05T07:04:30.468729",
   "environment_variables": {},
   "exception": null,
   "input_path": "__notebook__.ipynb",
   "output_path": "__notebook__.ipynb",
   "parameters": {},
   "start_time": "2022-11-05T07:04:19.336520",
   "version": "1.2.1"
  }
 },
 "nbformat": 4,
 "nbformat_minor": 4
}
